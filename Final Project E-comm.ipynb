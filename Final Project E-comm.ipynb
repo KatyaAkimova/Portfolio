{
 "cells": [
  {
   "cell_type": "markdown",
   "metadata": {},
   "source": [
    "---\n",
    "<div class=\"alert alert-block alert-info\">\n",
    "\n",
    "## Комментарий от тимлида\n",
    "\n",
    "Привет!\n",
    "    <p>К сожалению, у меня упал код на загрузке данных и если к самому датасету я могу переписать путь, то категории мне неизвестны.</p>\n",
    "    <p>Из того, что я смогла посмотреть: дашборд хороший и максимально информативен, категоризация товаров и сегментация покупателей судя по всему получилась очень интересная. Мне нравится твоя презентация, я не уверена, что стоит ее целиком \"показывать заказчику\", но как тимлид я получила кучу инсайтов.         </p>\n",
    "    <p>\n",
    " Есть момент, который очень смущает: удалять просто потому что не понравилось cs['avg_check']<2200 - это означает удалить целые товарные категории (лестницы, сумки-тележки, весь хороший инструмент, сушилки и т.д. и т.п.). Есть какое-то бизнес-объяснение этому решению? </p>                                                                 \n",
    "<p>П.С. Дашборд и презентация приняты. По проекту жду починку загрузки и изменения или объяснения про удаление.</p>\n",
    "    \n",
    "</div>\n",
    "\n",
    "---\n"
   ]
  },
  {
   "cell_type": "markdown",
   "metadata": {},
   "source": [
    "Елена, спасибо за комментарий!! Поступила немудро, запрятав ссылку на архив с файлами в презентации :( Исправляюсь! Теперь всё должно заработать  \n",
    "Прикрепляю ссылку на архив с csv-файликами: https://drive.google.com/file/d/14BsaYHW45B_obGK3txrl-cWXNmRgOHfZ/view?usp=sharing\n",
    "\n",
    "Попытаюсь объянсить, почему я задала именно такую границу для среднего чека. Во-первых, я ориентировалась на распределение: смотрела на ящик с усами и наблюдения, которые выходят за рамки полутора межквартильных размахов. Кроме этого я пробовала кластеризовать на разных наборах данных (не стала все итерации и попытки в работу включать): если задавать границу для отсечения выбросов выше, алгоритм делает маленький кластер (иногда даже из одного наблюдения) с большим средним чеком, а все остальные наблюдения скидывает в один большой кластер, так как по сравнению с расстоянием до большого среднего чека разница между более типичными средними чеками нивелируется - алгоритм их воспринимает как один большой кластер. То есть не убирая, большие средние чеки я не могу найти отличия между основной массой наблюдения, чего требует задача. Все выбросы по чеку я пометила в работе как группу \"нетипичные\", по ним тоже можно посмотреть статистику  \n",
    "Кластеры, которые я получила, статистически значимо отличаются от \"типичных\" пользователей. Значит мне удалось выявить в основной массе пользователей группы покупателей со своими особенностями и описать их"
   ]
  },
  {
   "cell_type": "markdown",
   "metadata": {},
   "source": [
    "# Проект: E-commerce — Выявление профилей потребления"
   ]
  },
  {
   "cell_type": "markdown",
   "metadata": {},
   "source": [
    "## Материалы\n",
    "\n",
    "Ссылка на дашборд: https://public.tableau.com/profile/ekaterina3818#!/vizhome/FinalProjectE-comm/Dashboard1\n",
    "\n",
    "Ссылка на презентацию: https://docs.google.com/presentation/d/1NT2u6Ozs42NA4NLYdEbfCI1RtS4-mT2QCNXP3ExrBT0/edit#slide=id.p\n",
    "\n",
    "Ссылка на архив с csv-файлами: https://drive.google.com/file/d/14BsaYHW45B_obGK3txrl-cWXNmRgOHfZ/view?usp=sharing"
   ]
  },
  {
   "cell_type": "markdown",
   "metadata": {},
   "source": [
    "**Задача**: предложить сегментацию потребителей, чтобы сформулировать персонализированное предложение. Заказчик ожидает готовые идеи/алгоритмы на основании полученных профилей. Желательно делать упор на визуацлизацию "
   ]
  },
  {
   "cell_type": "markdown",
   "metadata": {},
   "source": [
    "**Данные**  \n",
    "Датасет с транзакциями интернет-магазина товаров для дома и быта «Пока все ещё тут»\n",
    "- `date` — дата заказа (с точностью до часа)\n",
    "- `customer_id` — идентификатор покупателя\n",
    "- `order_id` — идентификатор заказа\n",
    "- `product` — наименование товара\n",
    "- `quantity` — количество товара в заказе\n",
    "- `price` — цена товара"
   ]
  },
  {
   "cell_type": "markdown",
   "metadata": {},
   "source": [
    "**Содержание:**  \n",
    "1. <a href='#import'>Импорт и предобработка данных</a>\n",
    "2. <a href='#eda'>Разведывательный анализ</a>\n",
    "3. <a href='#cluster'>Кластеризация</a>\n",
    "4. <a href='#test'>Тестирование статистических гипотез</a>\n",
    "5. <a href='#concl'>Выводы и предложения</a>"
   ]
  },
  {
   "cell_type": "markdown",
   "metadata": {},
   "source": [
    "<a id='import'></a>"
   ]
  },
  {
   "cell_type": "code",
   "execution_count": 1,
   "metadata": {},
   "outputs": [],
   "source": [
    "import pandas as pd\n",
    "import numpy as np\n",
    "import requests\n",
    "from bs4 import BeautifulSoup\n",
    "import matplotlib.pyplot as plt\n",
    "import seaborn as sns\n",
    "from sklearn.preprocessing import StandardScaler\n",
    "import scipy\n",
    "from scipy import stats as st\n",
    "from scipy.stats import norm \n",
    "from scipy.cluster.hierarchy import dendrogram, linkage \n",
    "from sklearn.cluster import KMeans"
   ]
  },
  {
   "cell_type": "code",
   "execution_count": 2,
   "metadata": {},
   "outputs": [],
   "source": [
    "df = pd.read_csv('C:\\\\Users\\\\akimo\\\\ecommerce_dataset.csv')"
   ]
  },
  {
   "cell_type": "code",
   "execution_count": 3,
   "metadata": {},
   "outputs": [
    {
     "name": "stdout",
     "output_type": "stream",
     "text": [
      "<class 'pandas.core.frame.DataFrame'>\n",
      "RangeIndex: 6737 entries, 0 to 6736\n",
      "Data columns (total 6 columns):\n",
      " #   Column       Non-Null Count  Dtype  \n",
      "---  ------       --------------  -----  \n",
      " 0   date         6737 non-null   int64  \n",
      " 1   customer_id  6737 non-null   object \n",
      " 2   order_id     6737 non-null   int64  \n",
      " 3   product      6737 non-null   object \n",
      " 4   quantity     6737 non-null   int64  \n",
      " 5   price        6737 non-null   float64\n",
      "dtypes: float64(1), int64(3), object(2)\n",
      "memory usage: 315.9+ KB\n"
     ]
    }
   ],
   "source": [
    "df.info()"
   ]
  },
  {
   "cell_type": "markdown",
   "metadata": {},
   "source": [
    "В датафрейме 6737 наблюдений. Пропущенных значений в данных нет. Дату необходимо преобразовать в корретный формат"
   ]
  },
  {
   "cell_type": "code",
   "execution_count": 4,
   "metadata": {},
   "outputs": [
    {
     "data": {
      "text/html": [
       "<div>\n",
       "<style scoped>\n",
       "    .dataframe tbody tr th:only-of-type {\n",
       "        vertical-align: middle;\n",
       "    }\n",
       "\n",
       "    .dataframe tbody tr th {\n",
       "        vertical-align: top;\n",
       "    }\n",
       "\n",
       "    .dataframe thead th {\n",
       "        text-align: right;\n",
       "    }\n",
       "</style>\n",
       "<table border=\"1\" class=\"dataframe\">\n",
       "  <thead>\n",
       "    <tr style=\"text-align: right;\">\n",
       "      <th></th>\n",
       "      <th>date</th>\n",
       "      <th>customer_id</th>\n",
       "      <th>order_id</th>\n",
       "      <th>product</th>\n",
       "      <th>quantity</th>\n",
       "      <th>price</th>\n",
       "    </tr>\n",
       "  </thead>\n",
       "  <tbody>\n",
       "    <tr>\n",
       "      <th>0</th>\n",
       "      <td>2018100100</td>\n",
       "      <td>ee47d746-6d2f-4d3c-9622-c31412542920</td>\n",
       "      <td>68477</td>\n",
       "      <td>Комнатное растение в горшке Алое Вера, d12, h30</td>\n",
       "      <td>1</td>\n",
       "      <td>142.0</td>\n",
       "    </tr>\n",
       "    <tr>\n",
       "      <th>1</th>\n",
       "      <td>2018100100</td>\n",
       "      <td>ee47d746-6d2f-4d3c-9622-c31412542920</td>\n",
       "      <td>68477</td>\n",
       "      <td>Комнатное растение в горшке Кофе Арабика, d12,...</td>\n",
       "      <td>1</td>\n",
       "      <td>194.0</td>\n",
       "    </tr>\n",
       "    <tr>\n",
       "      <th>2</th>\n",
       "      <td>2018100100</td>\n",
       "      <td>ee47d746-6d2f-4d3c-9622-c31412542920</td>\n",
       "      <td>68477</td>\n",
       "      <td>Радермахера d-12 см h-20 см</td>\n",
       "      <td>1</td>\n",
       "      <td>112.0</td>\n",
       "    </tr>\n",
       "    <tr>\n",
       "      <th>3</th>\n",
       "      <td>2018100100</td>\n",
       "      <td>ee47d746-6d2f-4d3c-9622-c31412542920</td>\n",
       "      <td>68477</td>\n",
       "      <td>Хризолидокарпус Лутесценс d-9 см</td>\n",
       "      <td>1</td>\n",
       "      <td>179.0</td>\n",
       "    </tr>\n",
       "    <tr>\n",
       "      <th>4</th>\n",
       "      <td>2018100100</td>\n",
       "      <td>ee47d746-6d2f-4d3c-9622-c31412542920</td>\n",
       "      <td>68477</td>\n",
       "      <td>Циперус Зумула d-12 см h-25 см</td>\n",
       "      <td>1</td>\n",
       "      <td>112.0</td>\n",
       "    </tr>\n",
       "  </tbody>\n",
       "</table>\n",
       "</div>"
      ],
      "text/plain": [
       "         date                           customer_id  order_id  \\\n",
       "0  2018100100  ee47d746-6d2f-4d3c-9622-c31412542920     68477   \n",
       "1  2018100100  ee47d746-6d2f-4d3c-9622-c31412542920     68477   \n",
       "2  2018100100  ee47d746-6d2f-4d3c-9622-c31412542920     68477   \n",
       "3  2018100100  ee47d746-6d2f-4d3c-9622-c31412542920     68477   \n",
       "4  2018100100  ee47d746-6d2f-4d3c-9622-c31412542920     68477   \n",
       "\n",
       "                                             product  quantity  price  \n",
       "0    Комнатное растение в горшке Алое Вера, d12, h30         1  142.0  \n",
       "1  Комнатное растение в горшке Кофе Арабика, d12,...         1  194.0  \n",
       "2                        Радермахера d-12 см h-20 см         1  112.0  \n",
       "3                   Хризолидокарпус Лутесценс d-9 см         1  179.0  \n",
       "4                     Циперус Зумула d-12 см h-25 см         1  112.0  "
      ]
     },
     "metadata": {},
     "output_type": "display_data"
    }
   ],
   "source": [
    "display(df.head(5))"
   ]
  },
  {
   "cell_type": "markdown",
   "metadata": {},
   "source": [
    "Преобразуем дату в корректный формат - дата и часы. Вычисляю первый день месяца для удобства анализа"
   ]
  },
  {
   "cell_type": "code",
   "execution_count": 5,
   "metadata": {},
   "outputs": [],
   "source": [
    "df['date'] = pd.to_datetime(df['date'], format='%Y%m%d%H')"
   ]
  },
  {
   "cell_type": "code",
   "execution_count": 6,
   "metadata": {},
   "outputs": [],
   "source": [
    "df['firstdayofmonth'] = df['date'].values.astype('datetime64[M]')"
   ]
  },
  {
   "cell_type": "markdown",
   "metadata": {},
   "source": [
    "*Проверка на дубликаты*"
   ]
  },
  {
   "cell_type": "code",
   "execution_count": 7,
   "metadata": {},
   "outputs": [
    {
     "data": {
      "text/plain": [
       "0"
      ]
     },
     "execution_count": 7,
     "metadata": {},
     "output_type": "execute_result"
    }
   ],
   "source": [
    "df.duplicated().sum()"
   ]
  },
  {
   "cell_type": "markdown",
   "metadata": {},
   "source": [
    "Полностью повторяющихся строк нет"
   ]
  },
  {
   "cell_type": "code",
   "execution_count": 8,
   "metadata": {},
   "outputs": [
    {
     "data": {
      "text/plain": [
       "order_id\n",
       "14833    74\n",
       "70960    60\n",
       "69162    23\n",
       "71148    16\n",
       "69531    12\n",
       "         ..\n",
       "71225     1\n",
       "71223     1\n",
       "71222     1\n",
       "71220     1\n",
       "12624     1\n",
       "Name: date, Length: 2784, dtype: int64"
      ]
     },
     "execution_count": 8,
     "metadata": {},
     "output_type": "execute_result"
    }
   ],
   "source": [
    "df.groupby(['order_id'])['date'].nunique().sort_values(ascending=False)"
   ]
  },
  {
   "cell_type": "code",
   "execution_count": 9,
   "metadata": {},
   "outputs": [
    {
     "data": {
      "text/html": [
       "<div>\n",
       "<style scoped>\n",
       "    .dataframe tbody tr th:only-of-type {\n",
       "        vertical-align: middle;\n",
       "    }\n",
       "\n",
       "    .dataframe tbody tr th {\n",
       "        vertical-align: top;\n",
       "    }\n",
       "\n",
       "    .dataframe thead th {\n",
       "        text-align: right;\n",
       "    }\n",
       "</style>\n",
       "<table border=\"1\" class=\"dataframe\">\n",
       "  <thead>\n",
       "    <tr style=\"text-align: right;\">\n",
       "      <th></th>\n",
       "      <th>date</th>\n",
       "      <th>customer_id</th>\n",
       "      <th>order_id</th>\n",
       "      <th>product</th>\n",
       "      <th>quantity</th>\n",
       "      <th>price</th>\n",
       "      <th>firstdayofmonth</th>\n",
       "    </tr>\n",
       "  </thead>\n",
       "  <tbody>\n",
       "    <tr>\n",
       "      <th>102</th>\n",
       "      <td>2018-10-05 00:00:00</td>\n",
       "      <td>b80e4826-7218-4bf9-ac08-eb2c81ab3f62</td>\n",
       "      <td>13547</td>\n",
       "      <td>Рассада зелени для кухни Лаванды в кассете по ...</td>\n",
       "      <td>1</td>\n",
       "      <td>315.0</td>\n",
       "      <td>2018-10-01</td>\n",
       "    </tr>\n",
       "    <tr>\n",
       "      <th>103</th>\n",
       "      <td>2018-10-05 00:00:00</td>\n",
       "      <td>b80e4826-7218-4bf9-ac08-eb2c81ab3f62</td>\n",
       "      <td>13547</td>\n",
       "      <td>Рассада зелени для кухни Розмарина в кассете п...</td>\n",
       "      <td>1</td>\n",
       "      <td>207.0</td>\n",
       "      <td>2018-10-01</td>\n",
       "    </tr>\n",
       "    <tr>\n",
       "      <th>104</th>\n",
       "      <td>2018-10-05 00:00:00</td>\n",
       "      <td>b80e4826-7218-4bf9-ac08-eb2c81ab3f62</td>\n",
       "      <td>13547</td>\n",
       "      <td>Рассада зелени для кухни Тимьяна в кассете по ...</td>\n",
       "      <td>1</td>\n",
       "      <td>162.0</td>\n",
       "      <td>2018-10-01</td>\n",
       "    </tr>\n",
       "    <tr>\n",
       "      <th>376</th>\n",
       "      <td>2018-10-23 13:00:00</td>\n",
       "      <td>b80e4826-7218-4bf9-ac08-eb2c81ab3f62</td>\n",
       "      <td>13547</td>\n",
       "      <td>Рассада зелени для кухни Лаванды в кассете по ...</td>\n",
       "      <td>1</td>\n",
       "      <td>315.0</td>\n",
       "      <td>2018-10-01</td>\n",
       "    </tr>\n",
       "    <tr>\n",
       "      <th>377</th>\n",
       "      <td>2018-10-23 13:00:00</td>\n",
       "      <td>b80e4826-7218-4bf9-ac08-eb2c81ab3f62</td>\n",
       "      <td>13547</td>\n",
       "      <td>Рассада зелени для кухни Розмарина в кассете п...</td>\n",
       "      <td>1</td>\n",
       "      <td>207.0</td>\n",
       "      <td>2018-10-01</td>\n",
       "    </tr>\n",
       "    <tr>\n",
       "      <th>378</th>\n",
       "      <td>2018-10-23 13:00:00</td>\n",
       "      <td>b80e4826-7218-4bf9-ac08-eb2c81ab3f62</td>\n",
       "      <td>13547</td>\n",
       "      <td>Рассада зелени для кухни Тимьяна в кассете по ...</td>\n",
       "      <td>1</td>\n",
       "      <td>162.0</td>\n",
       "      <td>2018-10-01</td>\n",
       "    </tr>\n",
       "    <tr>\n",
       "      <th>509</th>\n",
       "      <td>2018-10-28 19:00:00</td>\n",
       "      <td>b80e4826-7218-4bf9-ac08-eb2c81ab3f62</td>\n",
       "      <td>13547</td>\n",
       "      <td>Рассада зелени для кухни Лаванды в кассете по ...</td>\n",
       "      <td>1</td>\n",
       "      <td>315.0</td>\n",
       "      <td>2018-10-01</td>\n",
       "    </tr>\n",
       "    <tr>\n",
       "      <th>510</th>\n",
       "      <td>2018-10-28 19:00:00</td>\n",
       "      <td>b80e4826-7218-4bf9-ac08-eb2c81ab3f62</td>\n",
       "      <td>13547</td>\n",
       "      <td>Рассада зелени для кухни Розмарина в кассете п...</td>\n",
       "      <td>1</td>\n",
       "      <td>207.0</td>\n",
       "      <td>2018-10-01</td>\n",
       "    </tr>\n",
       "    <tr>\n",
       "      <th>511</th>\n",
       "      <td>2018-10-28 19:00:00</td>\n",
       "      <td>b80e4826-7218-4bf9-ac08-eb2c81ab3f62</td>\n",
       "      <td>13547</td>\n",
       "      <td>Рассада зелени для кухни Тимьяна в кассете по ...</td>\n",
       "      <td>1</td>\n",
       "      <td>162.0</td>\n",
       "      <td>2018-10-01</td>\n",
       "    </tr>\n",
       "    <tr>\n",
       "      <th>588</th>\n",
       "      <td>2018-11-02 14:00:00</td>\n",
       "      <td>b80e4826-7218-4bf9-ac08-eb2c81ab3f62</td>\n",
       "      <td>13547</td>\n",
       "      <td>Рассада зелени для кухни Лаванды в кассете по ...</td>\n",
       "      <td>1</td>\n",
       "      <td>315.0</td>\n",
       "      <td>2018-11-01</td>\n",
       "    </tr>\n",
       "    <tr>\n",
       "      <th>589</th>\n",
       "      <td>2018-11-02 14:00:00</td>\n",
       "      <td>b80e4826-7218-4bf9-ac08-eb2c81ab3f62</td>\n",
       "      <td>13547</td>\n",
       "      <td>Рассада зелени для кухни Розмарина в кассете п...</td>\n",
       "      <td>1</td>\n",
       "      <td>207.0</td>\n",
       "      <td>2018-11-01</td>\n",
       "    </tr>\n",
       "    <tr>\n",
       "      <th>590</th>\n",
       "      <td>2018-11-02 14:00:00</td>\n",
       "      <td>b80e4826-7218-4bf9-ac08-eb2c81ab3f62</td>\n",
       "      <td>13547</td>\n",
       "      <td>Рассада зелени для кухни Тимьяна в кассете по ...</td>\n",
       "      <td>1</td>\n",
       "      <td>162.0</td>\n",
       "      <td>2018-11-01</td>\n",
       "    </tr>\n",
       "    <tr>\n",
       "      <th>758</th>\n",
       "      <td>2018-11-10 17:00:00</td>\n",
       "      <td>b80e4826-7218-4bf9-ac08-eb2c81ab3f62</td>\n",
       "      <td>13547</td>\n",
       "      <td>Рассада зелени для кухни Лаванды в кассете по ...</td>\n",
       "      <td>1</td>\n",
       "      <td>315.0</td>\n",
       "      <td>2018-11-01</td>\n",
       "    </tr>\n",
       "    <tr>\n",
       "      <th>759</th>\n",
       "      <td>2018-11-10 17:00:00</td>\n",
       "      <td>b80e4826-7218-4bf9-ac08-eb2c81ab3f62</td>\n",
       "      <td>13547</td>\n",
       "      <td>Рассада зелени для кухни Розмарина в кассете п...</td>\n",
       "      <td>1</td>\n",
       "      <td>207.0</td>\n",
       "      <td>2018-11-01</td>\n",
       "    </tr>\n",
       "    <tr>\n",
       "      <th>760</th>\n",
       "      <td>2018-11-10 17:00:00</td>\n",
       "      <td>b80e4826-7218-4bf9-ac08-eb2c81ab3f62</td>\n",
       "      <td>13547</td>\n",
       "      <td>Рассада зелени для кухни Тимьяна в кассете по ...</td>\n",
       "      <td>1</td>\n",
       "      <td>162.0</td>\n",
       "      <td>2018-11-01</td>\n",
       "    </tr>\n",
       "    <tr>\n",
       "      <th>816</th>\n",
       "      <td>2018-11-15 15:00:00</td>\n",
       "      <td>b80e4826-7218-4bf9-ac08-eb2c81ab3f62</td>\n",
       "      <td>13547</td>\n",
       "      <td>Рассада зелени для кухни Лаванды в кассете по ...</td>\n",
       "      <td>1</td>\n",
       "      <td>315.0</td>\n",
       "      <td>2018-11-01</td>\n",
       "    </tr>\n",
       "    <tr>\n",
       "      <th>817</th>\n",
       "      <td>2018-11-15 15:00:00</td>\n",
       "      <td>b80e4826-7218-4bf9-ac08-eb2c81ab3f62</td>\n",
       "      <td>13547</td>\n",
       "      <td>Рассада зелени для кухни Розмарина в кассете п...</td>\n",
       "      <td>1</td>\n",
       "      <td>207.0</td>\n",
       "      <td>2018-11-01</td>\n",
       "    </tr>\n",
       "    <tr>\n",
       "      <th>818</th>\n",
       "      <td>2018-11-15 15:00:00</td>\n",
       "      <td>b80e4826-7218-4bf9-ac08-eb2c81ab3f62</td>\n",
       "      <td>13547</td>\n",
       "      <td>Рассада зелени для кухни Тимьяна в кассете по ...</td>\n",
       "      <td>1</td>\n",
       "      <td>162.0</td>\n",
       "      <td>2018-11-01</td>\n",
       "    </tr>\n",
       "    <tr>\n",
       "      <th>827</th>\n",
       "      <td>2018-11-16 16:00:00</td>\n",
       "      <td>b80e4826-7218-4bf9-ac08-eb2c81ab3f62</td>\n",
       "      <td>13547</td>\n",
       "      <td>Рассада зелени для кухни Лаванды в кассете по ...</td>\n",
       "      <td>1</td>\n",
       "      <td>315.0</td>\n",
       "      <td>2018-11-01</td>\n",
       "    </tr>\n",
       "    <tr>\n",
       "      <th>828</th>\n",
       "      <td>2018-11-16 16:00:00</td>\n",
       "      <td>b80e4826-7218-4bf9-ac08-eb2c81ab3f62</td>\n",
       "      <td>13547</td>\n",
       "      <td>Рассада зелени для кухни Розмарина в кассете п...</td>\n",
       "      <td>1</td>\n",
       "      <td>207.0</td>\n",
       "      <td>2018-11-01</td>\n",
       "    </tr>\n",
       "    <tr>\n",
       "      <th>829</th>\n",
       "      <td>2018-11-16 16:00:00</td>\n",
       "      <td>b80e4826-7218-4bf9-ac08-eb2c81ab3f62</td>\n",
       "      <td>13547</td>\n",
       "      <td>Рассада зелени для кухни Тимьяна в кассете по ...</td>\n",
       "      <td>1</td>\n",
       "      <td>162.0</td>\n",
       "      <td>2018-11-01</td>\n",
       "    </tr>\n",
       "  </tbody>\n",
       "</table>\n",
       "</div>"
      ],
      "text/plain": [
       "                   date                           customer_id  order_id  \\\n",
       "102 2018-10-05 00:00:00  b80e4826-7218-4bf9-ac08-eb2c81ab3f62     13547   \n",
       "103 2018-10-05 00:00:00  b80e4826-7218-4bf9-ac08-eb2c81ab3f62     13547   \n",
       "104 2018-10-05 00:00:00  b80e4826-7218-4bf9-ac08-eb2c81ab3f62     13547   \n",
       "376 2018-10-23 13:00:00  b80e4826-7218-4bf9-ac08-eb2c81ab3f62     13547   \n",
       "377 2018-10-23 13:00:00  b80e4826-7218-4bf9-ac08-eb2c81ab3f62     13547   \n",
       "378 2018-10-23 13:00:00  b80e4826-7218-4bf9-ac08-eb2c81ab3f62     13547   \n",
       "509 2018-10-28 19:00:00  b80e4826-7218-4bf9-ac08-eb2c81ab3f62     13547   \n",
       "510 2018-10-28 19:00:00  b80e4826-7218-4bf9-ac08-eb2c81ab3f62     13547   \n",
       "511 2018-10-28 19:00:00  b80e4826-7218-4bf9-ac08-eb2c81ab3f62     13547   \n",
       "588 2018-11-02 14:00:00  b80e4826-7218-4bf9-ac08-eb2c81ab3f62     13547   \n",
       "589 2018-11-02 14:00:00  b80e4826-7218-4bf9-ac08-eb2c81ab3f62     13547   \n",
       "590 2018-11-02 14:00:00  b80e4826-7218-4bf9-ac08-eb2c81ab3f62     13547   \n",
       "758 2018-11-10 17:00:00  b80e4826-7218-4bf9-ac08-eb2c81ab3f62     13547   \n",
       "759 2018-11-10 17:00:00  b80e4826-7218-4bf9-ac08-eb2c81ab3f62     13547   \n",
       "760 2018-11-10 17:00:00  b80e4826-7218-4bf9-ac08-eb2c81ab3f62     13547   \n",
       "816 2018-11-15 15:00:00  b80e4826-7218-4bf9-ac08-eb2c81ab3f62     13547   \n",
       "817 2018-11-15 15:00:00  b80e4826-7218-4bf9-ac08-eb2c81ab3f62     13547   \n",
       "818 2018-11-15 15:00:00  b80e4826-7218-4bf9-ac08-eb2c81ab3f62     13547   \n",
       "827 2018-11-16 16:00:00  b80e4826-7218-4bf9-ac08-eb2c81ab3f62     13547   \n",
       "828 2018-11-16 16:00:00  b80e4826-7218-4bf9-ac08-eb2c81ab3f62     13547   \n",
       "829 2018-11-16 16:00:00  b80e4826-7218-4bf9-ac08-eb2c81ab3f62     13547   \n",
       "\n",
       "                                               product  quantity  price  \\\n",
       "102  Рассада зелени для кухни Лаванды в кассете по ...         1  315.0   \n",
       "103  Рассада зелени для кухни Розмарина в кассете п...         1  207.0   \n",
       "104  Рассада зелени для кухни Тимьяна в кассете по ...         1  162.0   \n",
       "376  Рассада зелени для кухни Лаванды в кассете по ...         1  315.0   \n",
       "377  Рассада зелени для кухни Розмарина в кассете п...         1  207.0   \n",
       "378  Рассада зелени для кухни Тимьяна в кассете по ...         1  162.0   \n",
       "509  Рассада зелени для кухни Лаванды в кассете по ...         1  315.0   \n",
       "510  Рассада зелени для кухни Розмарина в кассете п...         1  207.0   \n",
       "511  Рассада зелени для кухни Тимьяна в кассете по ...         1  162.0   \n",
       "588  Рассада зелени для кухни Лаванды в кассете по ...         1  315.0   \n",
       "589  Рассада зелени для кухни Розмарина в кассете п...         1  207.0   \n",
       "590  Рассада зелени для кухни Тимьяна в кассете по ...         1  162.0   \n",
       "758  Рассада зелени для кухни Лаванды в кассете по ...         1  315.0   \n",
       "759  Рассада зелени для кухни Розмарина в кассете п...         1  207.0   \n",
       "760  Рассада зелени для кухни Тимьяна в кассете по ...         1  162.0   \n",
       "816  Рассада зелени для кухни Лаванды в кассете по ...         1  315.0   \n",
       "817  Рассада зелени для кухни Розмарина в кассете п...         1  207.0   \n",
       "818  Рассада зелени для кухни Тимьяна в кассете по ...         1  162.0   \n",
       "827  Рассада зелени для кухни Лаванды в кассете по ...         1  315.0   \n",
       "828  Рассада зелени для кухни Розмарина в кассете п...         1  207.0   \n",
       "829  Рассада зелени для кухни Тимьяна в кассете по ...         1  162.0   \n",
       "\n",
       "    firstdayofmonth  \n",
       "102      2018-10-01  \n",
       "103      2018-10-01  \n",
       "104      2018-10-01  \n",
       "376      2018-10-01  \n",
       "377      2018-10-01  \n",
       "378      2018-10-01  \n",
       "509      2018-10-01  \n",
       "510      2018-10-01  \n",
       "511      2018-10-01  \n",
       "588      2018-11-01  \n",
       "589      2018-11-01  \n",
       "590      2018-11-01  \n",
       "758      2018-11-01  \n",
       "759      2018-11-01  \n",
       "760      2018-11-01  \n",
       "816      2018-11-01  \n",
       "817      2018-11-01  \n",
       "818      2018-11-01  \n",
       "827      2018-11-01  \n",
       "828      2018-11-01  \n",
       "829      2018-11-01  "
      ]
     },
     "execution_count": 9,
     "metadata": {},
     "output_type": "execute_result"
    }
   ],
   "source": [
    "df[df['order_id']==13547]"
   ]
  },
  {
   "cell_type": "markdown",
   "metadata": {},
   "source": [
    "Но есть строки, у которых внутри одного идентификатора заказа встречаются разные даты. Скорее всего, такая ситуация возникла из-за того, что в датафрейме сохранились записи из промежуточных статусов заказа (оформление заказа - статус оплаты - отправлено на доставку и т.д.) Чтобы избавиться от дублей я возьму записи из максимальной даты внутри одного заказа, так как к этой дате заказ точно будет оплачен, и это можно будет считать полноценной покупкой"
   ]
  },
  {
   "cell_type": "code",
   "execution_count": 10,
   "metadata": {},
   "outputs": [],
   "source": [
    "final_order = df.groupby(['order_id'])['date'].max().reset_index()"
   ]
  },
  {
   "cell_type": "code",
   "execution_count": 11,
   "metadata": {},
   "outputs": [],
   "source": [
    "df = df.merge(final_order, on=['order_id', 'date'], how='inner')"
   ]
  },
  {
   "cell_type": "code",
   "execution_count": 12,
   "metadata": {},
   "outputs": [
    {
     "data": {
      "text/html": [
       "<div>\n",
       "<style scoped>\n",
       "    .dataframe tbody tr th:only-of-type {\n",
       "        vertical-align: middle;\n",
       "    }\n",
       "\n",
       "    .dataframe tbody tr th {\n",
       "        vertical-align: top;\n",
       "    }\n",
       "\n",
       "    .dataframe thead th {\n",
       "        text-align: right;\n",
       "    }\n",
       "</style>\n",
       "<table border=\"1\" class=\"dataframe\">\n",
       "  <thead>\n",
       "    <tr style=\"text-align: right;\">\n",
       "      <th></th>\n",
       "      <th>date</th>\n",
       "      <th>customer_id</th>\n",
       "      <th>order_id</th>\n",
       "      <th>product</th>\n",
       "      <th>quantity</th>\n",
       "      <th>price</th>\n",
       "      <th>firstdayofmonth</th>\n",
       "    </tr>\n",
       "  </thead>\n",
       "  <tbody>\n",
       "    <tr>\n",
       "      <th>693</th>\n",
       "      <td>2018-11-16 16:00:00</td>\n",
       "      <td>b80e4826-7218-4bf9-ac08-eb2c81ab3f62</td>\n",
       "      <td>13547</td>\n",
       "      <td>Рассада зелени для кухни Лаванды в кассете по ...</td>\n",
       "      <td>1</td>\n",
       "      <td>315.0</td>\n",
       "      <td>2018-11-01</td>\n",
       "    </tr>\n",
       "    <tr>\n",
       "      <th>694</th>\n",
       "      <td>2018-11-16 16:00:00</td>\n",
       "      <td>b80e4826-7218-4bf9-ac08-eb2c81ab3f62</td>\n",
       "      <td>13547</td>\n",
       "      <td>Рассада зелени для кухни Розмарина в кассете п...</td>\n",
       "      <td>1</td>\n",
       "      <td>207.0</td>\n",
       "      <td>2018-11-01</td>\n",
       "    </tr>\n",
       "    <tr>\n",
       "      <th>695</th>\n",
       "      <td>2018-11-16 16:00:00</td>\n",
       "      <td>b80e4826-7218-4bf9-ac08-eb2c81ab3f62</td>\n",
       "      <td>13547</td>\n",
       "      <td>Рассада зелени для кухни Тимьяна в кассете по ...</td>\n",
       "      <td>1</td>\n",
       "      <td>162.0</td>\n",
       "      <td>2018-11-01</td>\n",
       "    </tr>\n",
       "  </tbody>\n",
       "</table>\n",
       "</div>"
      ],
      "text/plain": [
       "                   date                           customer_id  order_id  \\\n",
       "693 2018-11-16 16:00:00  b80e4826-7218-4bf9-ac08-eb2c81ab3f62     13547   \n",
       "694 2018-11-16 16:00:00  b80e4826-7218-4bf9-ac08-eb2c81ab3f62     13547   \n",
       "695 2018-11-16 16:00:00  b80e4826-7218-4bf9-ac08-eb2c81ab3f62     13547   \n",
       "\n",
       "                                               product  quantity  price  \\\n",
       "693  Рассада зелени для кухни Лаванды в кассете по ...         1  315.0   \n",
       "694  Рассада зелени для кухни Розмарина в кассете п...         1  207.0   \n",
       "695  Рассада зелени для кухни Тимьяна в кассете по ...         1  162.0   \n",
       "\n",
       "    firstdayofmonth  \n",
       "693      2018-11-01  \n",
       "694      2018-11-01  \n",
       "695      2018-11-01  "
      ]
     },
     "execution_count": 12,
     "metadata": {},
     "output_type": "execute_result"
    }
   ],
   "source": [
    "df[df['order_id']==13547]"
   ]
  },
  {
   "cell_type": "code",
   "execution_count": 13,
   "metadata": {},
   "outputs": [
    {
     "data": {
      "text/plain": [
       "order_id\n",
       "71571    2\n",
       "69515    1\n",
       "69527    1\n",
       "69525    1\n",
       "69524    1\n",
       "        ..\n",
       "71333    1\n",
       "71331    1\n",
       "71330    1\n",
       "71329    1\n",
       "12624    1\n",
       "Name: customer_id, Length: 2784, dtype: int64"
      ]
     },
     "execution_count": 13,
     "metadata": {},
     "output_type": "execute_result"
    }
   ],
   "source": [
    "df.groupby(['order_id'])['customer_id'].nunique().sort_values(ascending=False)"
   ]
  },
  {
   "cell_type": "markdown",
   "metadata": {},
   "source": [
    "После удаления дублей внутри заказа остались две дублирующие записи, у которых внутри одного заказа два разных id покупателя. Нужно удалить одну запись, чтобы не задваивалась сумма заказа"
   ]
  },
  {
   "cell_type": "code",
   "execution_count": 14,
   "metadata": {},
   "outputs": [],
   "source": [
    "df = df[(df['customer_id'] != 'f1222eaa-d09d-4bff-ab4e-bea6fe3f68a8')]"
   ]
  },
  {
   "cell_type": "markdown",
   "metadata": {},
   "source": [
    "Считаю стоимость "
   ]
  },
  {
   "cell_type": "code",
   "execution_count": 15,
   "metadata": {},
   "outputs": [],
   "source": [
    "df['cost'] = df['quantity'] * df['price']"
   ]
  },
  {
   "cell_type": "markdown",
   "metadata": {},
   "source": [
    "*Присвоение товарных категорий*"
   ]
  },
  {
   "cell_type": "markdown",
   "metadata": {},
   "source": [
    "Я пробовала присовить категории с сайта https://www.1d.ru, на котором я нашла похожие категории. Но не все товары нашлись на сайте (наверное, часть товаров в датайфрейме устарела), поэтому я проставила оставшиеся категории вручную и сохранила в csv под названием category.  \n",
    "Кусочки кода с парсингом я закомментировала, итоговый файл подгружен ниже"
   ]
  },
  {
   "cell_type": "code",
   "execution_count": 16,
   "metadata": {},
   "outputs": [],
   "source": [
    "#url = 'https://www.1d.ru/catalog/komnatnye_rasteniya/'\n",
    "#content=[] \n",
    "#num_of_page = 48\n",
    "\n",
    "#for i in range(1, num_of_page+1): \n",
    "#    r = requests.get(url, {'PAGEN_1': str(i)})  \n",
    "#    soup = BeautifulSoup(r.text, 'lxml')\n",
    "#    quotes = soup.find_all('div', class_='item-title')\n",
    "#    for quote in quotes:\n",
    "#        content.append(quote.text)\n",
    "        \n",
    "#cat = pd.DataFrame(content, columns=['product']) \n",
    "#cat['category'] = 'Комнантные растения'"
   ]
  },
  {
   "cell_type": "code",
   "execution_count": 17,
   "metadata": {},
   "outputs": [],
   "source": [
    "#url = 'https://www.1d.ru/catalog/rassada_i_sazhentsy/'\n",
    "#content=[] \n",
    "#num_of_page = 169\n",
    "\n",
    "#for i in range(1, num_of_page+1): \n",
    "#    r = requests.get(url, {'PAGEN_1': str(i)})  \n",
    "#    soup = BeautifulSoup(r.text, 'lxml')\n",
    "#    quotes = soup.find_all('div', class_='item-title')\n",
    "#    for quote in quotes:\n",
    "#        content.append(quote.text)\n",
    "#cat2 = pd.DataFrame(content, columns=['product']) \n",
    "#cat2['category'] = 'Рассада и саженцы'"
   ]
  },
  {
   "cell_type": "code",
   "execution_count": 18,
   "metadata": {},
   "outputs": [],
   "source": [
    "#url = 'https://www.1d.ru/catalog/tovary_dlya_doma/'\n",
    "#content=[] \n",
    "#num_of_page = 283\n",
    "\n",
    "#for i in range(1, num_of_page+1): \n",
    "#    r = requests.get(url, {'PAGEN_1': str(i)})  \n",
    "#    soup = BeautifulSoup(r.text, 'lxml')\n",
    "#    quotes = soup.find_all('div', class_='item-title')\n",
    "#    for quote in quotes:\n",
    "#        content.append(quote.text)\n",
    "#cat3 = pd.DataFrame(content, columns=['product']) \n",
    "#cat3['category'] = 'Товары для дома'"
   ]
  },
  {
   "cell_type": "code",
   "execution_count": 19,
   "metadata": {},
   "outputs": [],
   "source": [
    "#url = 'https://www.1d.ru/catalog/tovary_dlya_dachi/'\n",
    "#content=[] \n",
    "#num_of_page = 303\n",
    "\n",
    "#for i in range(1, num_of_page+1): \n",
    "#    r = requests.get(url, {'PAGEN_1': str(i)})  \n",
    "#    soup = BeautifulSoup(r.text, 'lxml')\n",
    "#    quotes = soup.find_all('div', class_='item-title')\n",
    "#    for quote in quotes:\n",
    "#        content.append(quote.text)\n",
    "#cat4 = pd.DataFrame(content, columns=['product']) \n",
    "#cat4['category'] = 'Товары для дачи'"
   ]
  },
  {
   "cell_type": "code",
   "execution_count": 20,
   "metadata": {},
   "outputs": [],
   "source": [
    "#url = 'https://www.1d.ru/catalog/mebel/'\n",
    "#content=[] \n",
    "#num_of_page = 70\n",
    "\n",
    "#for i in range(1, num_of_page+1): \n",
    "#    r = requests.get(url, {'PAGEN_1': str(i)})  \n",
    "#    soup = BeautifulSoup(r.text, 'lxml')\n",
    "#    quotes = soup.find_all('div', class_='item-title')\n",
    "#    for quote in quotes:\n",
    "#        content.append(quote.text)\n",
    "#cat5 = pd.DataFrame(content, columns=['product']) \n",
    "#cat5['category'] = 'Мебель для дома и дачи'"
   ]
  },
  {
   "cell_type": "code",
   "execution_count": 21,
   "metadata": {},
   "outputs": [],
   "source": [
    "#url = 'https://www.1d.ru/catalog/tovary_dlya_bani_i_sauny/'\n",
    "#content=[] \n",
    "#num_of_page = 63\n",
    "\n",
    "#for i in range(1, num_of_page+1): \n",
    "#    r = requests.get(url, {'PAGEN_1': str(i)})  \n",
    "#    soup = BeautifulSoup(r.text, 'lxml')\n",
    "#    quotes = soup.find_all('div', class_='item-title')\n",
    "#    for quote in quotes:\n",
    "#        content.append(quote.text)\n",
    "#cat6 = pd.DataFrame(content, columns=['product']) \n",
    "#cat6['category'] = 'Товары для бани и сауны'"
   ]
  },
  {
   "cell_type": "code",
   "execution_count": 22,
   "metadata": {},
   "outputs": [],
   "source": [
    "#url = 'https://www.1d.ru/catalog/tekstil/'\n",
    "#content=[] \n",
    "#num_of_page = 184\n",
    "\n",
    "#for i in range(1, num_of_page+1): \n",
    "#    r = requests.get(url, {'PAGEN_1': str(i)})  \n",
    "#    soup = BeautifulSoup(r.text, 'lxml')\n",
    "#    quotes = soup.find_all('div', class_='item-title')\n",
    "#    for quote in quotes:\n",
    "#        content.append(quote.text)\n",
    "#cat7 = pd.DataFrame(content, columns=['product']) \n",
    "#cat7['category'] = 'Текстиль'"
   ]
  },
  {
   "cell_type": "code",
   "execution_count": 23,
   "metadata": {},
   "outputs": [],
   "source": [
    "#category = pd.concat([cat, cat2, cat3, cat4, cat5, cat6, cat7])\n",
    "#category = (category.replace('\\n', '', regex=True))"
   ]
  },
  {
   "cell_type": "code",
   "execution_count": 24,
   "metadata": {},
   "outputs": [],
   "source": [
    "category = pd.read_csv('C:\\\\Users\\\\akimo\\\\category_2.csv')"
   ]
  },
  {
   "cell_type": "code",
   "execution_count": 25,
   "metadata": {},
   "outputs": [],
   "source": [
    "category = category[['product', 'category']]"
   ]
  },
  {
   "cell_type": "code",
   "execution_count": 26,
   "metadata": {},
   "outputs": [],
   "source": [
    "df = df.merge(category, on = 'product', how='left')"
   ]
  },
  {
   "cell_type": "markdown",
   "metadata": {},
   "source": [
    "<a id='eda'></a>"
   ]
  },
  {
   "cell_type": "markdown",
   "metadata": {},
   "source": [
    "**EDA**"
   ]
  },
  {
   "cell_type": "code",
   "execution_count": 27,
   "metadata": {},
   "outputs": [
    {
     "data": {
      "text/html": [
       "<div>\n",
       "<style scoped>\n",
       "    .dataframe tbody tr th:only-of-type {\n",
       "        vertical-align: middle;\n",
       "    }\n",
       "\n",
       "    .dataframe tbody tr th {\n",
       "        vertical-align: top;\n",
       "    }\n",
       "\n",
       "    .dataframe thead th {\n",
       "        text-align: right;\n",
       "    }\n",
       "</style>\n",
       "<table border=\"1\" class=\"dataframe\">\n",
       "  <thead>\n",
       "    <tr style=\"text-align: right;\">\n",
       "      <th></th>\n",
       "      <th>order_id</th>\n",
       "      <th>quantity</th>\n",
       "      <th>price</th>\n",
       "      <th>cost</th>\n",
       "    </tr>\n",
       "  </thead>\n",
       "  <tbody>\n",
       "    <tr>\n",
       "      <th>count</th>\n",
       "      <td>4792.000000</td>\n",
       "      <td>4792.000000</td>\n",
       "      <td>4792.000000</td>\n",
       "      <td>4792.000000</td>\n",
       "    </tr>\n",
       "    <tr>\n",
       "      <th>mean</th>\n",
       "      <td>48168.362688</td>\n",
       "      <td>2.824499</td>\n",
       "      <td>515.723915</td>\n",
       "      <td>853.285893</td>\n",
       "    </tr>\n",
       "    <tr>\n",
       "      <th>std</th>\n",
       "      <td>27354.950838</td>\n",
       "      <td>17.720407</td>\n",
       "      <td>947.658012</td>\n",
       "      <td>9889.271285</td>\n",
       "    </tr>\n",
       "    <tr>\n",
       "      <th>min</th>\n",
       "      <td>12624.000000</td>\n",
       "      <td>1.000000</td>\n",
       "      <td>9.000000</td>\n",
       "      <td>9.000000</td>\n",
       "    </tr>\n",
       "    <tr>\n",
       "      <th>25%</th>\n",
       "      <td>14770.000000</td>\n",
       "      <td>1.000000</td>\n",
       "      <td>90.000000</td>\n",
       "      <td>120.000000</td>\n",
       "    </tr>\n",
       "    <tr>\n",
       "      <th>50%</th>\n",
       "      <td>68858.000000</td>\n",
       "      <td>1.000000</td>\n",
       "      <td>150.000000</td>\n",
       "      <td>192.500000</td>\n",
       "    </tr>\n",
       "    <tr>\n",
       "      <th>75%</th>\n",
       "      <td>70832.250000</td>\n",
       "      <td>1.000000</td>\n",
       "      <td>488.000000</td>\n",
       "      <td>734.000000</td>\n",
       "    </tr>\n",
       "    <tr>\n",
       "      <th>max</th>\n",
       "      <td>73164.000000</td>\n",
       "      <td>1000.000000</td>\n",
       "      <td>14917.000000</td>\n",
       "      <td>675000.000000</td>\n",
       "    </tr>\n",
       "  </tbody>\n",
       "</table>\n",
       "</div>"
      ],
      "text/plain": [
       "           order_id     quantity         price           cost\n",
       "count   4792.000000  4792.000000   4792.000000    4792.000000\n",
       "mean   48168.362688     2.824499    515.723915     853.285893\n",
       "std    27354.950838    17.720407    947.658012    9889.271285\n",
       "min    12624.000000     1.000000      9.000000       9.000000\n",
       "25%    14770.000000     1.000000     90.000000     120.000000\n",
       "50%    68858.000000     1.000000    150.000000     192.500000\n",
       "75%    70832.250000     1.000000    488.000000     734.000000\n",
       "max    73164.000000  1000.000000  14917.000000  675000.000000"
      ]
     },
     "execution_count": 27,
     "metadata": {},
     "output_type": "execute_result"
    }
   ],
   "source": [
    "df.describe()"
   ]
  },
  {
   "cell_type": "code",
   "execution_count": 28,
   "metadata": {},
   "outputs": [
    {
     "data": {
      "text/html": [
       "<div>\n",
       "<style scoped>\n",
       "    .dataframe tbody tr th:only-of-type {\n",
       "        vertical-align: middle;\n",
       "    }\n",
       "\n",
       "    .dataframe tbody tr th {\n",
       "        vertical-align: top;\n",
       "    }\n",
       "\n",
       "    .dataframe thead th {\n",
       "        text-align: right;\n",
       "    }\n",
       "</style>\n",
       "<table border=\"1\" class=\"dataframe\">\n",
       "  <thead>\n",
       "    <tr style=\"text-align: right;\">\n",
       "      <th></th>\n",
       "      <th>order_id</th>\n",
       "      <th>price</th>\n",
       "      <th>quantity</th>\n",
       "    </tr>\n",
       "    <tr>\n",
       "      <th>category</th>\n",
       "      <th></th>\n",
       "      <th></th>\n",
       "      <th></th>\n",
       "    </tr>\n",
       "  </thead>\n",
       "  <tbody>\n",
       "    <tr>\n",
       "      <th>Бытовая химия</th>\n",
       "      <td>18</td>\n",
       "      <td>134.0</td>\n",
       "      <td>1</td>\n",
       "    </tr>\n",
       "    <tr>\n",
       "      <th>Комнатные растения</th>\n",
       "      <td>573</td>\n",
       "      <td>149.0</td>\n",
       "      <td>1</td>\n",
       "    </tr>\n",
       "    <tr>\n",
       "      <th>Мебель для дома и дачи</th>\n",
       "      <td>52</td>\n",
       "      <td>1386.5</td>\n",
       "      <td>1</td>\n",
       "    </tr>\n",
       "    <tr>\n",
       "      <th>Посуда</th>\n",
       "      <td>182</td>\n",
       "      <td>183.0</td>\n",
       "      <td>1</td>\n",
       "    </tr>\n",
       "    <tr>\n",
       "      <th>Рассада и саженцы</th>\n",
       "      <td>273</td>\n",
       "      <td>90.0</td>\n",
       "      <td>1</td>\n",
       "    </tr>\n",
       "    <tr>\n",
       "      <th>Текстиль</th>\n",
       "      <td>149</td>\n",
       "      <td>937.0</td>\n",
       "      <td>1</td>\n",
       "    </tr>\n",
       "    <tr>\n",
       "      <th>Техника</th>\n",
       "      <td>19</td>\n",
       "      <td>985.5</td>\n",
       "      <td>1</td>\n",
       "    </tr>\n",
       "    <tr>\n",
       "      <th>Товары для дачи</th>\n",
       "      <td>3</td>\n",
       "      <td>38.0</td>\n",
       "      <td>40</td>\n",
       "    </tr>\n",
       "    <tr>\n",
       "      <th>Товары для дома</th>\n",
       "      <td>1659</td>\n",
       "      <td>488.0</td>\n",
       "      <td>1</td>\n",
       "    </tr>\n",
       "  </tbody>\n",
       "</table>\n",
       "</div>"
      ],
      "text/plain": [
       "                        order_id   price  quantity\n",
       "category                                          \n",
       "Бытовая химия                 18   134.0         1\n",
       "Комнатные растения           573   149.0         1\n",
       "Мебель для дома и дачи        52  1386.5         1\n",
       "Посуда                       182   183.0         1\n",
       "Рассада и саженцы            273    90.0         1\n",
       "Текстиль                     149   937.0         1\n",
       "Техника                       19   985.5         1\n",
       "Товары для дачи                3    38.0        40\n",
       "Товары для дома             1659   488.0         1"
      ]
     },
     "execution_count": 28,
     "metadata": {},
     "output_type": "execute_result"
    }
   ],
   "source": [
    " df.groupby('category').agg({'order_id' : 'nunique', 'price' : 'median', 'quantity': 'median'})"
   ]
  },
  {
   "cell_type": "code",
   "execution_count": 29,
   "metadata": {},
   "outputs": [
    {
     "data": {
      "image/png": "[encoded data removed]",
      "text/plain": [
       "<Figure size 576x432 with 1 Axes>"
      ]
     },
     "metadata": {
      "needs_background": "light"
     },
     "output_type": "display_data"
    }
   ],
   "source": [
    "category_n = df.groupby('category')['order_id'].nunique().sort_values(ascending=False).reset_index()\n",
    "plt.figure(figsize=(8, 6))\n",
    "sns.barplot(x='category', y='order_id', \n",
    "              data=category_n, palette=\"Paired\")\n",
    "sns.set_style(\"ticks\") \n",
    "sns.despine()\n",
    "plt.xlabel('категория')\n",
    "plt.ylabel('кол-во заказов')\n",
    "plt.xticks(rotation=90)\n",
    "plt.title('Заказы по категориям'); "
   ]
  },
  {
   "cell_type": "markdown",
   "metadata": {},
   "source": [
    "Больше всего заказов в категории Товары для дома. На втором месте Комнатные растения, на третьем - Рассада и саженцы. Самые \"дорогие товарные категории\" (с самой большой медианной ценой) - мебель и техника. В категории товары для дачи медиана для количества товаров 40 - это сильно превышает показатель в остальных категориях. Скорее всего, это статистический выброс. Выбросы я подробнее проанализмрую перед тем как делать кластеризацию"
   ]
  },
  {
   "cell_type": "code",
   "execution_count": 30,
   "metadata": {},
   "outputs": [
    {
     "data": {
      "image/png": "[encoded data removed]",
      "text/plain": [
       "<Figure size 432x288 with 1 Axes>"
      ]
     },
     "metadata": {},
     "output_type": "display_data"
    }
   ],
   "source": [
    "df.groupby('firstdayofmonth')['customer_id'].nunique().plot()\n",
    "plt.ylim(0, 300)\n",
    "plt.suptitle(\"Кол-во пользователей по месяцам\");"
   ]
  },
  {
   "cell_type": "markdown",
   "metadata": {},
   "source": [
    "Больше всего пользователей совершают покупки в феврале, марте и апреле. Меньше всего - в январе и июне"
   ]
  },
  {
   "cell_type": "code",
   "execution_count": 31,
   "metadata": {},
   "outputs": [
    {
     "data": {
      "image/png": "[encoded data removed]",
      "text/plain": [
       "<Figure size 432x288 with 1 Axes>"
      ]
     },
     "metadata": {},
     "output_type": "display_data"
    }
   ],
   "source": [
    "av_ch = df.groupby('firstdayofmonth').agg({'order_id' : 'nunique', 'cost': 'sum'}).reset_index()\n",
    "av_ch['check'] = av_ch['cost'] / av_ch['order_id']\n",
    "av_ch.plot(x='firstdayofmonth', y='check')\n",
    "plt.suptitle(\"Средний чек по месяцам\");"
   ]
  },
  {
   "cell_type": "markdown",
   "metadata": {},
   "source": [
    "В июне виден всплеск по величине среднего чека (тоже скорее всего выброс, который может помешать на этапе статистического анализа). Средний чек выше в ноябре и январе по сравнению с другими месяцами. Значит в январе было мало заказов, но на чуть бОльшую сумму"
   ]
  },
  {
   "cell_type": "markdown",
   "metadata": {},
   "source": [
    "<a id='cluster'></a>"
   ]
  },
  {
   "cell_type": "markdown",
   "metadata": {},
   "source": [
    "**Кластеризация**"
   ]
  },
  {
   "cell_type": "markdown",
   "metadata": {},
   "source": [
    "Для кластеризации я буду использовать метрики:\n",
    "- `n_orders` - количество заказов\n",
    "- `avg_check`  - средний чек\n",
    "- `n_months` - количество месяцев с заказами\n",
    "- `n_categories` - количество категорий в заказе\n",
    "- `avg_quantity` - среднее количество товаров в заказе\n",
    "\n",
    "Средний чек и количество заказов - основные очевидные метрики \"успешности\" нашего магазина и поведения клиентов\n",
    "\n",
    "Среднее количество товаров в заказе - позволит определить пользователей, которые пришли за разнообразными товарами, а не за какой-то конкретной вещью\n",
    "\n",
    "Количество категорий в заказе - позводит учесть товарные категории. Чем больше товарных категорий в заказе, тем более разнообразные товары заказал пользовтель\n",
    "\n",
    "Количество месяцев взято для того, чтобы учесть пользователей, которые совершают заказы не разово, а на протяжении нескольких месяцев"
   ]
  },
  {
   "cell_type": "code",
   "execution_count": 32,
   "metadata": {},
   "outputs": [],
   "source": [
    "cs = df.groupby('customer_id').agg({'order_id' : 'nunique',\n",
    "                                           'quantity': 'sum', 'firstdayofmonth':'nunique', \n",
    "                                           'category': 'nunique', 'cost': 'sum'}).reset_index()"
   ]
  },
  {
   "cell_type": "code",
   "execution_count": 33,
   "metadata": {},
   "outputs": [],
   "source": [
    "cs.columns = ['customer_id', 'n_orders', 'quantity',  'n_months', 'n_categories', 'cost']"
   ]
  },
  {
   "cell_type": "code",
   "execution_count": 34,
   "metadata": {},
   "outputs": [],
   "source": [
    "cs['avg_check'] = cs['cost'] / cs['n_orders']\n",
    "cs['avg_quantity'] = cs['quantity'] / cs['n_orders']"
   ]
  },
  {
   "cell_type": "code",
   "execution_count": 35,
   "metadata": {},
   "outputs": [],
   "source": [
    "cs = cs[['customer_id','n_orders', 'avg_check',  'n_months', 'n_categories', 'avg_quantity']]"
   ]
  },
  {
   "cell_type": "markdown",
   "metadata": {},
   "source": [
    "Прежде чем приступить к кластеризации, смотрю на распределение атрибутов"
   ]
  },
  {
   "cell_type": "code",
   "execution_count": 36,
   "metadata": {},
   "outputs": [
    {
     "data": {
      "image/png": "[encoded data removed]",
      "text/plain": [
       "<Figure size 360x360 with 1 Axes>"
      ]
     },
     "metadata": {},
     "output_type": "display_data"
    },
    {
     "data": {
      "image/png": "[encoded data removed]",
      "text/plain": [
       "<Figure size 360x360 with 1 Axes>"
      ]
     },
     "metadata": {},
     "output_type": "display_data"
    },
    {
     "data": {
      "image/png": "[encoded data removed]",
      "text/plain": [
       "<Figure size 360x360 with 1 Axes>"
      ]
     },
     "metadata": {},
     "output_type": "display_data"
    },
    {
     "data": {
      "image/png": "[encoded data removed]",
      "text/plain": [
       "<Figure size 360x360 with 1 Axes>"
      ]
     },
     "metadata": {},
     "output_type": "display_data"
    },
    {
     "data": {
      "image/png": "[encoded data removed]",
      "text/plain": [
       "<Figure size 360x360 with 1 Axes>"
      ]
     },
     "metadata": {},
     "output_type": "display_data"
    }
   ],
   "source": [
    "plt.figure(figsize=(5, 5))\n",
    "sns.boxplot(data = cs, y='avg_check').set_title('Выбросы для метрик')\n",
    "sns.color_palette(\"Set2\")\n",
    "plt.xlabel('avg_check');\n",
    "\n",
    "plt.figure(figsize=(5, 5))\n",
    "sns.boxplot(data = cs, y='avg_quantity').set_title('Выбросы для метрик')\n",
    "sns.color_palette(\"Set2\")\n",
    "plt.xlabel('avg_quantity');\n",
    "\n",
    "plt.figure(figsize=(5, 5))\n",
    "sns.boxplot(data = cs, y='n_months').set_title('Выбросы для метрик')\n",
    "sns.color_palette(\"Set2\")\n",
    "plt.xlabel('n_months');\n",
    "\n",
    "plt.figure(figsize=(5, 5))\n",
    "sns.boxplot(data = cs, y='n_categories').set_title('Выбросы для метрик')\n",
    "plt.xlabel('n_categories');\n",
    "\n",
    "plt.figure(figsize=(5, 5))\n",
    "sns.boxplot(data = cs, y='n_orders').set_title('Выбросы для метрик')\n",
    "sns.color_palette(\"Set2\")\n",
    "plt.xlabel('n_orders');"
   ]
  },
  {
   "cell_type": "code",
   "execution_count": 37,
   "metadata": {},
   "outputs": [
    {
     "data": {
      "text/html": [
       "<div>\n",
       "<style scoped>\n",
       "    .dataframe tbody tr th:only-of-type {\n",
       "        vertical-align: middle;\n",
       "    }\n",
       "\n",
       "    .dataframe tbody tr th {\n",
       "        vertical-align: top;\n",
       "    }\n",
       "\n",
       "    .dataframe thead th {\n",
       "        text-align: right;\n",
       "    }\n",
       "</style>\n",
       "<table border=\"1\" class=\"dataframe\">\n",
       "  <thead>\n",
       "    <tr style=\"text-align: right;\">\n",
       "      <th></th>\n",
       "      <th>n_orders</th>\n",
       "      <th>avg_check</th>\n",
       "      <th>n_months</th>\n",
       "      <th>n_categories</th>\n",
       "      <th>avg_quantity</th>\n",
       "    </tr>\n",
       "  </thead>\n",
       "  <tbody>\n",
       "    <tr>\n",
       "      <th>count</th>\n",
       "      <td>2421.000000</td>\n",
       "      <td>2421.000000</td>\n",
       "      <td>2421.000000</td>\n",
       "      <td>2421.000000</td>\n",
       "      <td>2421.000000</td>\n",
       "    </tr>\n",
       "    <tr>\n",
       "      <th>mean</th>\n",
       "      <td>1.149938</td>\n",
       "      <td>1497.389008</td>\n",
       "      <td>1.018587</td>\n",
       "      <td>1.066501</td>\n",
       "      <td>4.962692</td>\n",
       "    </tr>\n",
       "    <tr>\n",
       "      <th>std</th>\n",
       "      <td>2.671442</td>\n",
       "      <td>13857.194591</td>\n",
       "      <td>0.172684</td>\n",
       "      <td>0.311152</td>\n",
       "      <td>25.330141</td>\n",
       "    </tr>\n",
       "    <tr>\n",
       "      <th>min</th>\n",
       "      <td>1.000000</td>\n",
       "      <td>15.000000</td>\n",
       "      <td>1.000000</td>\n",
       "      <td>1.000000</td>\n",
       "      <td>1.000000</td>\n",
       "    </tr>\n",
       "    <tr>\n",
       "      <th>25%</th>\n",
       "      <td>1.000000</td>\n",
       "      <td>294.500000</td>\n",
       "      <td>1.000000</td>\n",
       "      <td>1.000000</td>\n",
       "      <td>1.000000</td>\n",
       "    </tr>\n",
       "    <tr>\n",
       "      <th>50%</th>\n",
       "      <td>1.000000</td>\n",
       "      <td>674.000000</td>\n",
       "      <td>1.000000</td>\n",
       "      <td>1.000000</td>\n",
       "      <td>1.000000</td>\n",
       "    </tr>\n",
       "    <tr>\n",
       "      <th>75%</th>\n",
       "      <td>1.000000</td>\n",
       "      <td>1447.000000</td>\n",
       "      <td>1.000000</td>\n",
       "      <td>1.000000</td>\n",
       "      <td>3.000000</td>\n",
       "    </tr>\n",
       "    <tr>\n",
       "      <th>max</th>\n",
       "      <td>126.000000</td>\n",
       "      <td>675000.000000</td>\n",
       "      <td>6.000000</td>\n",
       "      <td>8.000000</td>\n",
       "      <td>1000.000000</td>\n",
       "    </tr>\n",
       "  </tbody>\n",
       "</table>\n",
       "</div>"
      ],
      "text/plain": [
       "          n_orders      avg_check     n_months  n_categories  avg_quantity\n",
       "count  2421.000000    2421.000000  2421.000000   2421.000000   2421.000000\n",
       "mean      1.149938    1497.389008     1.018587      1.066501      4.962692\n",
       "std       2.671442   13857.194591     0.172684      0.311152     25.330141\n",
       "min       1.000000      15.000000     1.000000      1.000000      1.000000\n",
       "25%       1.000000     294.500000     1.000000      1.000000      1.000000\n",
       "50%       1.000000     674.000000     1.000000      1.000000      1.000000\n",
       "75%       1.000000    1447.000000     1.000000      1.000000      3.000000\n",
       "max     126.000000  675000.000000     6.000000      8.000000   1000.000000"
      ]
     },
     "execution_count": 37,
     "metadata": {},
     "output_type": "execute_result"
    }
   ],
   "source": [
    "cs.describe()"
   ]
  },
  {
   "cell_type": "code",
   "execution_count": 38,
   "metadata": {},
   "outputs": [
    {
     "data": {
      "text/html": [
       "<div>\n",
       "<style scoped>\n",
       "    .dataframe tbody tr th:only-of-type {\n",
       "        vertical-align: middle;\n",
       "    }\n",
       "\n",
       "    .dataframe tbody tr th {\n",
       "        vertical-align: top;\n",
       "    }\n",
       "\n",
       "    .dataframe thead th {\n",
       "        text-align: right;\n",
       "    }\n",
       "</style>\n",
       "<table border=\"1\" class=\"dataframe\">\n",
       "  <thead>\n",
       "    <tr style=\"text-align: right;\">\n",
       "      <th></th>\n",
       "      <th>date</th>\n",
       "      <th>customer_id</th>\n",
       "      <th>order_id</th>\n",
       "      <th>product</th>\n",
       "      <th>quantity</th>\n",
       "      <th>price</th>\n",
       "      <th>firstdayofmonth</th>\n",
       "      <th>cost</th>\n",
       "      <th>category</th>\n",
       "    </tr>\n",
       "  </thead>\n",
       "  <tbody>\n",
       "    <tr>\n",
       "      <th>3770</th>\n",
       "      <td>2019-06-18 15:00:00</td>\n",
       "      <td>312e9a3e-5fca-43ff-a6a1-892d2b2d5ba6</td>\n",
       "      <td>71743</td>\n",
       "      <td>Вантуз с деревянной ручкой d14 см красный, Bur...</td>\n",
       "      <td>1000</td>\n",
       "      <td>675.0</td>\n",
       "      <td>2019-06-01</td>\n",
       "      <td>675000.0</td>\n",
       "      <td>Товары для дома</td>\n",
       "    </tr>\n",
       "  </tbody>\n",
       "</table>\n",
       "</div>"
      ],
      "text/plain": [
       "                    date                           customer_id  order_id  \\\n",
       "3770 2019-06-18 15:00:00  312e9a3e-5fca-43ff-a6a1-892d2b2d5ba6     71743   \n",
       "\n",
       "                                                product  quantity  price  \\\n",
       "3770  Вантуз с деревянной ручкой d14 см красный, Bur...      1000  675.0   \n",
       "\n",
       "     firstdayofmonth      cost         category  \n",
       "3770      2019-06-01  675000.0  Товары для дома  "
      ]
     },
     "execution_count": 38,
     "metadata": {},
     "output_type": "execute_result"
    }
   ],
   "source": [
    "df[df['customer_id']=='312e9a3e-5fca-43ff-a6a1-892d2b2d5ba6']"
   ]
  },
  {
   "cell_type": "markdown",
   "metadata": {},
   "source": [
    "На ящике с усами видно, что у метрик есть статистические выбросы, превышающие полтора межквартильных размаха. Эти выбросы могут повлиять на результаты кластеризации. Из-за нескольких выбросов каждый выброс будет попадать в отдельный кластер, а все остальные наблюдения по сравнению с ними будут попадать в один большой кластер, и мы не сможем отличать их друг от друга. Например, мы видим пользователя '312e9a3e-5fca-43ff-a6a1-892d2b2d5ba6', который заказал 1000 вантузов с деревянной ручкой - это очеивдно нетипичный случай.  \n",
    "По этой причине для кластеризации я откину сильно выбивающиеся значения (пороги я установила на своё усмотрение исходя из графиков и медиан)"
   ]
  },
  {
   "cell_type": "code",
   "execution_count": 39,
   "metadata": {},
   "outputs": [],
   "source": [
    "cs = cs[cs['avg_check']<2200]\n",
    "cs = cs[cs['n_orders']<=20]\n",
    "cs = cs[cs['avg_quantity']<=10]"
   ]
  },
  {
   "cell_type": "code",
   "execution_count": 40,
   "metadata": {},
   "outputs": [],
   "source": [
    "X = cs.drop(columns=['customer_id'])"
   ]
  },
  {
   "cell_type": "markdown",
   "metadata": {},
   "source": [
    "Чтобы разделить наблюдения на кластеры, провожу стандартизацию"
   ]
  },
  {
   "cell_type": "code",
   "execution_count": 41,
   "metadata": {},
   "outputs": [],
   "source": [
    "sc = StandardScaler()\n",
    "X_sc = sc.fit_transform(X)"
   ]
  },
  {
   "cell_type": "code",
   "execution_count": 42,
   "metadata": {},
   "outputs": [],
   "source": [
    "linked = linkage(X_sc, method = 'ward')"
   ]
  },
  {
   "cell_type": "code",
   "execution_count": 43,
   "metadata": {},
   "outputs": [
    {
     "data": {
      "image/png": "[encoded data removed]",
      "text/plain": [
       "<Figure size 1080x720 with 1 Axes>"
      ]
     },
     "metadata": {},
     "output_type": "display_data"
    }
   ],
   "source": [
    "plt.figure(figsize=(15, 10))  \n",
    "dendrogram(linked, orientation='top')\n",
    "plt.show() "
   ]
  },
  {
   "cell_type": "code",
   "execution_count": 44,
   "metadata": {},
   "outputs": [],
   "source": [
    "km = KMeans(n_clusters = 5, random_state=0)\n",
    "labels = km.fit_predict(X_sc)"
   ]
  },
  {
   "cell_type": "code",
   "execution_count": 45,
   "metadata": {},
   "outputs": [],
   "source": [
    "cs['cluster_km'] = labels"
   ]
  },
  {
   "cell_type": "markdown",
   "metadata": {},
   "source": [
    "Так как при каждом прогоне порядок кластеров меняется (а порядок важен для дальнейших стат тестов), я сохранила одну версию в формате csv и дальше буду работать с ней"
   ]
  },
  {
   "cell_type": "code",
   "execution_count": 46,
   "metadata": {},
   "outputs": [],
   "source": [
    "#cs.to_csv(\"ecomm_data_clusters.csv\", sep='\\t')"
   ]
  },
  {
   "cell_type": "code",
   "execution_count": 47,
   "metadata": {},
   "outputs": [],
   "source": [
    "cs = pd.read_csv('C:\\\\Users\\\\akimo\\\\ecomm_data_clusters.csv', sep='\\t')\n",
    "cs = cs[['customer_id','n_orders', 'avg_check',  'n_months', 'n_categories', 'avg_quantity', 'cluster_km']]"
   ]
  },
  {
   "cell_type": "code",
   "execution_count": 48,
   "metadata": {},
   "outputs": [
    {
     "data": {
      "text/plain": [
       "cluster_km\n",
       "0     175\n",
       "1    1198\n",
       "2      80\n",
       "3      28\n",
       "4     473\n",
       "Name: customer_id, dtype: int64"
      ]
     },
     "execution_count": 48,
     "metadata": {},
     "output_type": "execute_result"
    }
   ],
   "source": [
    "cs.groupby('cluster_km')['customer_id'].nunique()"
   ]
  },
  {
   "cell_type": "code",
   "execution_count": 49,
   "metadata": {},
   "outputs": [
    {
     "data": {
      "text/html": [
       "<div>\n",
       "<style scoped>\n",
       "    .dataframe tbody tr th:only-of-type {\n",
       "        vertical-align: middle;\n",
       "    }\n",
       "\n",
       "    .dataframe tbody tr th {\n",
       "        vertical-align: top;\n",
       "    }\n",
       "\n",
       "    .dataframe thead th {\n",
       "        text-align: right;\n",
       "    }\n",
       "</style>\n",
       "<table border=\"1\" class=\"dataframe\">\n",
       "  <thead>\n",
       "    <tr style=\"text-align: right;\">\n",
       "      <th></th>\n",
       "      <th>n_orders</th>\n",
       "      <th>avg_check</th>\n",
       "      <th>n_months</th>\n",
       "      <th>n_categories</th>\n",
       "      <th>avg_quantity</th>\n",
       "    </tr>\n",
       "    <tr>\n",
       "      <th>cluster_km</th>\n",
       "      <th></th>\n",
       "      <th></th>\n",
       "      <th></th>\n",
       "      <th></th>\n",
       "      <th></th>\n",
       "    </tr>\n",
       "  </thead>\n",
       "  <tbody>\n",
       "    <tr>\n",
       "      <th>0</th>\n",
       "      <td>1.108571</td>\n",
       "      <td>727.594286</td>\n",
       "      <td>1.000000</td>\n",
       "      <td>1.000000</td>\n",
       "      <td>7.153333</td>\n",
       "    </tr>\n",
       "    <tr>\n",
       "      <th>1</th>\n",
       "      <td>1.045910</td>\n",
       "      <td>357.593907</td>\n",
       "      <td>1.000000</td>\n",
       "      <td>1.000000</td>\n",
       "      <td>1.360740</td>\n",
       "    </tr>\n",
       "    <tr>\n",
       "      <th>2</th>\n",
       "      <td>1.200000</td>\n",
       "      <td>858.129167</td>\n",
       "      <td>1.000000</td>\n",
       "      <td>2.062500</td>\n",
       "      <td>5.100000</td>\n",
       "    </tr>\n",
       "    <tr>\n",
       "      <th>3</th>\n",
       "      <td>3.035714</td>\n",
       "      <td>626.112020</td>\n",
       "      <td>2.071429</td>\n",
       "      <td>1.392857</td>\n",
       "      <td>2.995748</td>\n",
       "    </tr>\n",
       "    <tr>\n",
       "      <th>4</th>\n",
       "      <td>1.044397</td>\n",
       "      <td>1365.177590</td>\n",
       "      <td>1.000000</td>\n",
       "      <td>1.000000</td>\n",
       "      <td>1.217759</td>\n",
       "    </tr>\n",
       "  </tbody>\n",
       "</table>\n",
       "</div>"
      ],
      "text/plain": [
       "            n_orders    avg_check  n_months  n_categories  avg_quantity\n",
       "cluster_km                                                             \n",
       "0           1.108571   727.594286  1.000000      1.000000      7.153333\n",
       "1           1.045910   357.593907  1.000000      1.000000      1.360740\n",
       "2           1.200000   858.129167  1.000000      2.062500      5.100000\n",
       "3           3.035714   626.112020  2.071429      1.392857      2.995748\n",
       "4           1.044397  1365.177590  1.000000      1.000000      1.217759"
      ]
     },
     "execution_count": 49,
     "metadata": {},
     "output_type": "execute_result"
    }
   ],
   "source": [
    "cs.groupby('cluster_km').mean()"
   ]
  },
  {
   "cell_type": "markdown",
   "metadata": {},
   "source": [
    "Кластеры получились неравноверными по количеству наблюдений. Описательные статистики позволяют содержательно разделить пользователей на группы  \n",
    "Кластер 0 - кластер с пользователями, у которых в среднем больше всего товаров в заказе  \n",
    "Кластер 1 - кластер с типичными пользователями. Здесь в среднем самый маленький средний чек  \n",
    "Кластер 2 - кластер с пользователями, у которых в среднем заказно больше категорий, чем в других группах  \n",
    "Кластер 3 - кластер с большим числом заказов  \n",
    "Кластер 4 - кластер с самым большим средним чеком  "
   ]
  },
  {
   "cell_type": "code",
   "execution_count": 50,
   "metadata": {},
   "outputs": [],
   "source": [
    "cluster = cs[['customer_id', 'cluster_km']]\n",
    "df = df.merge(cluster, on='customer_id', how='left')"
   ]
  },
  {
   "cell_type": "code",
   "execution_count": 51,
   "metadata": {},
   "outputs": [],
   "source": [
    "def groups(df):\n",
    "    if df['cluster_km'] == 1:\n",
    "        return 'типичный'\n",
    "    if df['cluster_km'] == 3:\n",
    "        return 'больше заказов'\n",
    "    if df['cluster_km'] == 4:\n",
    "        return 'большой средний чек'\n",
    "    if df['cluster_km'] == 2:\n",
    "        return 'больше категорий'\n",
    "    if df['cluster_km'] == 0:\n",
    "        return 'больше среднее количество в заказе'\n",
    "    else:\n",
    "        return 'нетипичный'\n",
    "\n",
    "\n",
    "df['cluster'] = df.apply(groups, axis=1)"
   ]
  },
  {
   "cell_type": "code",
   "execution_count": 52,
   "metadata": {},
   "outputs": [
    {
     "data": {
      "text/html": [
       "<div>\n",
       "<style scoped>\n",
       "    .dataframe tbody tr th:only-of-type {\n",
       "        vertical-align: middle;\n",
       "    }\n",
       "\n",
       "    .dataframe tbody tr th {\n",
       "        vertical-align: top;\n",
       "    }\n",
       "\n",
       "    .dataframe thead th {\n",
       "        text-align: right;\n",
       "    }\n",
       "</style>\n",
       "<table border=\"1\" class=\"dataframe\">\n",
       "  <thead>\n",
       "    <tr style=\"text-align: right;\">\n",
       "      <th>cluster</th>\n",
       "      <th>category</th>\n",
       "      <th>больше заказов</th>\n",
       "      <th>больше категорий</th>\n",
       "      <th>больше среднее количество в заказе</th>\n",
       "      <th>большой средний чек</th>\n",
       "      <th>нетипичный</th>\n",
       "      <th>типичный</th>\n",
       "    </tr>\n",
       "  </thead>\n",
       "  <tbody>\n",
       "    <tr>\n",
       "      <th>7</th>\n",
       "      <td>Товары для дачи</td>\n",
       "      <td>NaN</td>\n",
       "      <td>NaN</td>\n",
       "      <td>NaN</td>\n",
       "      <td>NaN</td>\n",
       "      <td>2.0</td>\n",
       "      <td>1.0</td>\n",
       "    </tr>\n",
       "    <tr>\n",
       "      <th>6</th>\n",
       "      <td>Техника</td>\n",
       "      <td>2.0</td>\n",
       "      <td>1.0</td>\n",
       "      <td>NaN</td>\n",
       "      <td>5.0</td>\n",
       "      <td>5.0</td>\n",
       "      <td>6.0</td>\n",
       "    </tr>\n",
       "    <tr>\n",
       "      <th>0</th>\n",
       "      <td>Бытовая химия</td>\n",
       "      <td>NaN</td>\n",
       "      <td>3.0</td>\n",
       "      <td>3.0</td>\n",
       "      <td>NaN</td>\n",
       "      <td>2.0</td>\n",
       "      <td>10.0</td>\n",
       "    </tr>\n",
       "    <tr>\n",
       "      <th>2</th>\n",
       "      <td>Мебель для дома и дачи</td>\n",
       "      <td>2.0</td>\n",
       "      <td>2.0</td>\n",
       "      <td>1.0</td>\n",
       "      <td>17.0</td>\n",
       "      <td>16.0</td>\n",
       "      <td>14.0</td>\n",
       "    </tr>\n",
       "    <tr>\n",
       "      <th>5</th>\n",
       "      <td>Текстиль</td>\n",
       "      <td>NaN</td>\n",
       "      <td>7.0</td>\n",
       "      <td>7.0</td>\n",
       "      <td>61.0</td>\n",
       "      <td>37.0</td>\n",
       "      <td>37.0</td>\n",
       "    </tr>\n",
       "    <tr>\n",
       "      <th>4</th>\n",
       "      <td>Рассада и саженцы</td>\n",
       "      <td>16.0</td>\n",
       "      <td>56.0</td>\n",
       "      <td>45.0</td>\n",
       "      <td>8.0</td>\n",
       "      <td>89.0</td>\n",
       "      <td>59.0</td>\n",
       "    </tr>\n",
       "    <tr>\n",
       "      <th>3</th>\n",
       "      <td>Посуда</td>\n",
       "      <td>NaN</td>\n",
       "      <td>12.0</td>\n",
       "      <td>22.0</td>\n",
       "      <td>28.0</td>\n",
       "      <td>34.0</td>\n",
       "      <td>86.0</td>\n",
       "    </tr>\n",
       "    <tr>\n",
       "      <th>1</th>\n",
       "      <td>Комнатные растения</td>\n",
       "      <td>45.0</td>\n",
       "      <td>68.0</td>\n",
       "      <td>34.0</td>\n",
       "      <td>17.0</td>\n",
       "      <td>73.0</td>\n",
       "      <td>336.0</td>\n",
       "    </tr>\n",
       "    <tr>\n",
       "      <th>8</th>\n",
       "      <td>Товары для дома</td>\n",
       "      <td>28.0</td>\n",
       "      <td>26.0</td>\n",
       "      <td>82.0</td>\n",
       "      <td>358.0</td>\n",
       "      <td>461.0</td>\n",
       "      <td>704.0</td>\n",
       "    </tr>\n",
       "  </tbody>\n",
       "</table>\n",
       "</div>"
      ],
      "text/plain": [
       "cluster                category  больше заказов  больше категорий  \\\n",
       "7               Товары для дачи             NaN               NaN   \n",
       "6                       Техника             2.0               1.0   \n",
       "0                 Бытовая химия             NaN               3.0   \n",
       "2        Мебель для дома и дачи             2.0               2.0   \n",
       "5                      Текстиль             NaN               7.0   \n",
       "4             Рассада и саженцы            16.0              56.0   \n",
       "3                        Посуда             NaN              12.0   \n",
       "1            Комнатные растения            45.0              68.0   \n",
       "8               Товары для дома            28.0              26.0   \n",
       "\n",
       "cluster  больше среднее количество в заказе  большой средний чек  нетипичный  \\\n",
       "7                                       NaN                  NaN         2.0   \n",
       "6                                       NaN                  5.0         5.0   \n",
       "0                                       3.0                  NaN         2.0   \n",
       "2                                       1.0                 17.0        16.0   \n",
       "5                                       7.0                 61.0        37.0   \n",
       "4                                      45.0                  8.0        89.0   \n",
       "3                                      22.0                 28.0        34.0   \n",
       "1                                      34.0                 17.0        73.0   \n",
       "8                                      82.0                358.0       461.0   \n",
       "\n",
       "cluster  типичный  \n",
       "7             1.0  \n",
       "6             6.0  \n",
       "0            10.0  \n",
       "2            14.0  \n",
       "5            37.0  \n",
       "4            59.0  \n",
       "3            86.0  \n",
       "1           336.0  \n",
       "8           704.0  "
      ]
     },
     "execution_count": 52,
     "metadata": {},
     "output_type": "execute_result"
    }
   ],
   "source": [
    "pd.pivot_table(data=df, values=\"order_id\",columns=\"cluster\",index=\"category\"\n",
    "               , aggfunc='nunique').reset_index().sort_values(by='типичный')"
   ]
  },
  {
   "cell_type": "markdown",
   "metadata": {},
   "source": [
    "Пользователи с большим числом заказов и категорий делают больше заказов в категории рассада и саженцы и комнатные растения\n",
    "Пользователи с большим средним чеком больше больше заказывает текстиль, чем остальные"
   ]
  },
  {
   "cell_type": "code",
   "execution_count": 66,
   "metadata": {},
   "outputs": [
    {
     "data": {
      "text/html": [
       "<div>\n",
       "<style scoped>\n",
       "    .dataframe tbody tr th:only-of-type {\n",
       "        vertical-align: middle;\n",
       "    }\n",
       "\n",
       "    .dataframe tbody tr th {\n",
       "        vertical-align: top;\n",
       "    }\n",
       "\n",
       "    .dataframe thead th {\n",
       "        text-align: right;\n",
       "    }\n",
       "</style>\n",
       "<table border=\"1\" class=\"dataframe\">\n",
       "  <thead>\n",
       "    <tr style=\"text-align: right;\">\n",
       "      <th></th>\n",
       "      <th>order_id</th>\n",
       "      <th>quantity</th>\n",
       "      <th>price</th>\n",
       "      <th>cost</th>\n",
       "      <th>cluster_km</th>\n",
       "    </tr>\n",
       "  </thead>\n",
       "  <tbody>\n",
       "    <tr>\n",
       "      <th>count</th>\n",
       "      <td>1801.000000</td>\n",
       "      <td>1801.000000</td>\n",
       "      <td>1801.000000</td>\n",
       "      <td>1801.000000</td>\n",
       "      <td>0.0</td>\n",
       "    </tr>\n",
       "    <tr>\n",
       "      <th>mean</th>\n",
       "      <td>38956.683509</td>\n",
       "      <td>5.060522</td>\n",
       "      <td>692.259300</td>\n",
       "      <td>1494.399778</td>\n",
       "      <td>NaN</td>\n",
       "    </tr>\n",
       "    <tr>\n",
       "      <th>std</th>\n",
       "      <td>27406.983924</td>\n",
       "      <td>28.705191</td>\n",
       "      <td>1398.595976</td>\n",
       "      <td>16100.771589</td>\n",
       "      <td>NaN</td>\n",
       "    </tr>\n",
       "    <tr>\n",
       "      <th>min</th>\n",
       "      <td>14514.000000</td>\n",
       "      <td>1.000000</td>\n",
       "      <td>9.000000</td>\n",
       "      <td>9.000000</td>\n",
       "      <td>NaN</td>\n",
       "    </tr>\n",
       "    <tr>\n",
       "      <th>25%</th>\n",
       "      <td>14705.000000</td>\n",
       "      <td>1.000000</td>\n",
       "      <td>59.000000</td>\n",
       "      <td>90.000000</td>\n",
       "      <td>NaN</td>\n",
       "    </tr>\n",
       "    <tr>\n",
       "      <th>50%</th>\n",
       "      <td>14845.000000</td>\n",
       "      <td>1.000000</td>\n",
       "      <td>120.000000</td>\n",
       "      <td>169.000000</td>\n",
       "      <td>NaN</td>\n",
       "    </tr>\n",
       "    <tr>\n",
       "      <th>75%</th>\n",
       "      <td>69090.000000</td>\n",
       "      <td>2.000000</td>\n",
       "      <td>299.000000</td>\n",
       "      <td>1060.000000</td>\n",
       "      <td>NaN</td>\n",
       "    </tr>\n",
       "    <tr>\n",
       "      <th>max</th>\n",
       "      <td>73110.000000</td>\n",
       "      <td>1000.000000</td>\n",
       "      <td>14917.000000</td>\n",
       "      <td>675000.000000</td>\n",
       "      <td>NaN</td>\n",
       "    </tr>\n",
       "  </tbody>\n",
       "</table>\n",
       "</div>"
      ],
      "text/plain": [
       "           order_id     quantity         price           cost  cluster_km\n",
       "count   1801.000000  1801.000000   1801.000000    1801.000000         0.0\n",
       "mean   38956.683509     5.060522    692.259300    1494.399778         NaN\n",
       "std    27406.983924    28.705191   1398.595976   16100.771589         NaN\n",
       "min    14514.000000     1.000000      9.000000       9.000000         NaN\n",
       "25%    14705.000000     1.000000     59.000000      90.000000         NaN\n",
       "50%    14845.000000     1.000000    120.000000     169.000000         NaN\n",
       "75%    69090.000000     2.000000    299.000000    1060.000000         NaN\n",
       "max    73110.000000  1000.000000  14917.000000  675000.000000         NaN"
      ]
     },
     "execution_count": 66,
     "metadata": {},
     "output_type": "execute_result"
    }
   ],
   "source": [
    "df[df['cluster'] == \"нетипичный\"].describe()"
   ]
  },
  {
   "cell_type": "code",
   "execution_count": null,
   "metadata": {},
   "outputs": [],
   "source": [
    "Для \"нетипичного\" кластера, куда я отнесла все статистические выбросы для среднего чека, характерны "
   ]
  },
  {
   "cell_type": "markdown",
   "metadata": {},
   "source": [
    "<a id='test'></a>"
   ]
  },
  {
   "cell_type": "markdown",
   "metadata": {},
   "source": [
    "**Тестирование статистических гипотез**"
   ]
  },
  {
   "cell_type": "markdown",
   "metadata": {},
   "source": [
    "Я хочу протестировать две статистические гипотезы:\n",
    "1. В кластере два средний чек статистически значимо больше, чем в кластере ноль\n",
    "2. В кластере четыре среднее кол-во товаров в заказе больше, чем в кластере ноль\n",
    "\n",
    "Таким образом я хочу сравнить два самых ярких кластера с типичным кластером. Кроме того в этих группах достаточно наблюдений для статистического теста"
   ]
  },
  {
   "cell_type": "markdown",
   "metadata": {},
   "source": [
    "**Гипотеза о равенстве средних чеков в кластерах 1 и 4**\n",
    "\n",
    "*Нулевая гипотеза:* нет статистически значимых различий для среднего чека в двух группах\n",
    "\n",
    "*Альтернативная гипотеза:* статистически значимые различия для среднего чека есть. Средний чек в группе 4 больше, чем в группе 1 (Это мы увидели на этапе разведывательного анализа после кластеризации)\n",
    "\n",
    "Принимаю уровень значимости 0,05, так как объём выборки не очень велик \n",
    "\n",
    "Предполагаю, что выборки независимы: каждый пользователь входит только в один кластер. Поэтому для проверки гипотезы выбран тест Стьюдента для независимых выборок.\n",
    "\n",
    "Так как альтернативная гипотеза односторонняя, полученное p-value нужно разделить на 2\n",
    "\n",
    "Получаю очень маленькое значение p-value. Следовательно, я отвергаю нулевую гипотезу о том, что средний чек для двух групп не отличается друг от друга. Делаю выбор в пользу альтернативы: средний чек для кластера 4 больше"
   ]
  },
  {
   "cell_type": "code",
   "execution_count": 53,
   "metadata": {},
   "outputs": [],
   "source": [
    "check1 = cs[cs['cluster_km'] == 1]['avg_check']\n",
    "check4 = cs[cs['cluster_km'] == 4]['avg_check']"
   ]
  },
  {
   "cell_type": "code",
   "execution_count": 55,
   "metadata": {},
   "outputs": [
    {
     "data": {
      "text/plain": [
       "357.5939065108514"
      ]
     },
     "execution_count": 55,
     "metadata": {},
     "output_type": "execute_result"
    }
   ],
   "source": [
    "check1.mean()"
   ]
  },
  {
   "cell_type": "code",
   "execution_count": 56,
   "metadata": {},
   "outputs": [
    {
     "data": {
      "text/plain": [
       "1365.1775898520084"
      ]
     },
     "execution_count": 56,
     "metadata": {},
     "output_type": "execute_result"
    }
   ],
   "source": [
    "check4.mean()"
   ]
  },
  {
   "cell_type": "code",
   "execution_count": 57,
   "metadata": {},
   "outputs": [
    {
     "name": "stdout",
     "output_type": "stream",
     "text": [
      "p-значение: 0.0\n",
      "Отвергаем нулевую гипотезу\n"
     ]
    }
   ],
   "source": [
    "alpha = .05\n",
    "\n",
    "results = st.ttest_ind(check1, check4)\n",
    "\n",
    "print('p-значение:', results.pvalue/2)\n",
    "\n",
    "if (results.pvalue/2 < alpha):\n",
    "    print(\"Отвергаем нулевую гипотезу\")\n",
    "else:\n",
    "    print(\"Не получилось отвергнуть нулевую гипотезу\")"
   ]
  },
  {
   "cell_type": "markdown",
   "metadata": {},
   "source": [
    "**Гипотеза о равенстве среднего количества товаров в заказе в кластерах один и ноль**\n",
    "\n",
    "*Нулевая гипотеза:* нет статистически значимых различий для среднего количества товаров в заказе в двух группах\n",
    "\n",
    "*Альтернативная гипотеза:* статистически значимые различия для среднего количества товаров в заказе есть. Среднее количество товаров в группе ноль больше, чем в группе один (Это мы увидели на этапе разведывательного анализа после кластеризации)\n",
    "\n",
    "Принимаю уровень значимости 0,05, так как объём выборки не очень велик \n",
    "\n",
    "Предполагаю, что выборки независимы: каждый пользователь входит только в один кластер. Поэтому для проверки гипотезы выбран тест Стьюдента для независимых выборок.\n",
    "\n",
    "Так как альтернативная гипотеза односторонняя, полученное p-value нужно разделить на 2\n",
    "\n",
    "Получаю очень маленькое значение p-value. Следовательно, я отвергаю нулевую гипотезу о том, что среднее количество товаров в заказе для двух групп не отличается друг от друга. Делаю выбор в пользу альтернативы: среднее количество товаров в заказе для нулевого кластера больше"
   ]
  },
  {
   "cell_type": "code",
   "execution_count": 58,
   "metadata": {},
   "outputs": [],
   "source": [
    "quantity1 = cs[cs['cluster_km'] == 1]['avg_quantity']\n",
    "quantity0 = cs[cs['cluster_km'] == 0]['avg_quantity']"
   ]
  },
  {
   "cell_type": "code",
   "execution_count": 59,
   "metadata": {},
   "outputs": [
    {
     "data": {
      "text/plain": [
       "7.153333333333334"
      ]
     },
     "execution_count": 59,
     "metadata": {},
     "output_type": "execute_result"
    }
   ],
   "source": [
    "quantity0.mean()"
   ]
  },
  {
   "cell_type": "code",
   "execution_count": 60,
   "metadata": {},
   "outputs": [
    {
     "data": {
      "text/plain": [
       "1.3607401224262659"
      ]
     },
     "execution_count": 60,
     "metadata": {},
     "output_type": "execute_result"
    }
   ],
   "source": [
    "quantity1.mean()"
   ]
  },
  {
   "cell_type": "code",
   "execution_count": 61,
   "metadata": {},
   "outputs": [
    {
     "name": "stdout",
     "output_type": "stream",
     "text": [
      "p-значение: 0.0\n",
      "Отвергаем нулевую гипотезу\n"
     ]
    }
   ],
   "source": [
    "alpha = .05\n",
    "\n",
    "results = st.ttest_ind(quantity1, quantity0)\n",
    "\n",
    "print('p-значение:', results.pvalue/2)\n",
    "\n",
    "if (results.pvalue/2 < alpha):\n",
    "    print(\"Отвергаем нулевую гипотезу\")\n",
    "else:\n",
    "    print(\"Не получилось отвергнуть нулевую гипотезу\")"
   ]
  },
  {
   "cell_type": "markdown",
   "metadata": {},
   "source": [
    "<a id='concl'></a>"
   ]
  },
  {
   "cell_type": "markdown",
   "metadata": {},
   "source": [
    "**Выводы и предложения**"
   ]
  },
  {
   "cell_type": "markdown",
   "metadata": {},
   "source": [
    "1. Число заказов ненамного превышает число пользователей, следовательно чаще всего покупатель делает заказ 1 раз. Нужно подумать о том, как привлекать людей повторно\n",
    "2. Больше всего заказов сделано в категории товары для дома. В эту категорию входит больше всего товаров. Возможно стоит пересмотреть разделение на товарные категории на сайте, чтобы они были более удобными и для пользователей, и для дальнейшего анализа\n",
    "3. Меньше всего заказов сделано в январе. Больше всего - в феврале, марте и апреле. Скорее всего январь не лучший месяц для акций и персонализированных предложений. Покупатели пассивны и средства на маркетинг будут потрачены зря. Активизироваться стоит ближе к весне\n",
    "4. Кластеризация позволила выделить пять сегментов пользователей (после того как мы откинули не типичные наблюдения). Пользователи разных кластеров статистически значимо отличаются от типичных по среднему чеку и количеству товаров\n",
    "5. Для пользователей из кластера с большим числом заказов и категорий можно делать специализированные предложения на растения и сопутствующие растениям товары, делать рассылку с информацией на почту, делать акции весной, когда сезон для саженцев. Для пользователей с большим средним чеком можно чаще показывать в выдаче товары из категории текстиль и товары для дома (растения таких пользователей судя по количеству заказов интересуют несильно)\n"
   ]
  },
  {
   "cell_type": "code",
   "execution_count": null,
   "metadata": {},
   "outputs": [],
   "source": []
  }
 ],
 "metadata": {
  "kernelspec": {
   "display_name": "Python 3",
   "language": "python",
   "name": "python3"
  },
  "language_info": {
   "codemirror_mode": {
    "name": "ipython",
    "version": 3
   },
   "file_extension": ".py",
   "mimetype": "text/x-python",
   "name": "python",
   "nbconvert_exporter": "python",
   "pygments_lexer": "ipython3",
   "version": "3.8.5"
  }
 },
 "nbformat": 4,
 "nbformat_minor": 4
}
