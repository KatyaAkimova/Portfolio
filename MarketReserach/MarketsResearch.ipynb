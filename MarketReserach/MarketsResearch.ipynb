{
 "cells": [
  {
   "cell_type": "markdown",
   "metadata": {},
   "source": [
    "# Исследование рынка заведений общественного питания Москвы"
   ]
  },
  {
   "cell_type": "markdown",
   "metadata": {},
   "source": [
    "Цель проекта - исследование рынка общественного питания в Москве. Необходимо понять, сможет ли стартап - маленькое кафе, обслуживаемое роботами - стать прибыльным в долгосрочной перспективе\n",
    "\n",
    "В проекте используются данные о заведениях общественного питания Москвы (за какой период не указано). Данные не панельные, поэтому отследить ситуацию во времени мы не сможем. Сможем описать текущее положение дел"
   ]
  },
  {
   "cell_type": "markdown",
   "metadata": {},
   "source": [
    "**Подготовка данных**"
   ]
  },
  {
   "cell_type": "code",
   "execution_count": 1,
   "metadata": {},
   "outputs": [],
   "source": [
    "import pandas as pd\n",
    "import numpy as np\n",
    "import matplotlib.pyplot as plt\n",
    "import seaborn as sns\n",
    "import re\n",
    "import requests \n",
    "from scipy import stats"
   ]
  },
  {
   "cell_type": "code",
   "execution_count": 2,
   "metadata": {},
   "outputs": [],
   "source": [
    "rest_data = pd.read_csv('/datasets/rest_data.csv')"
   ]
  },
  {
   "cell_type": "code",
   "execution_count": 3,
   "metadata": {},
   "outputs": [
    {
     "name": "stdout",
     "output_type": "stream",
     "text": [
      "<class 'pandas.core.frame.DataFrame'>\n",
      "RangeIndex: 15366 entries, 0 to 15365\n",
      "Data columns (total 6 columns):\n",
      "id             15366 non-null int64\n",
      "object_name    15366 non-null object\n",
      "chain          15366 non-null object\n",
      "object_type    15366 non-null object\n",
      "address        15366 non-null object\n",
      "number         15366 non-null int64\n",
      "dtypes: int64(2), object(4)\n",
      "memory usage: 720.4+ KB\n"
     ]
    }
   ],
   "source": [
    "rest_data.info()"
   ]
  },
  {
   "cell_type": "markdown",
   "metadata": {},
   "source": [
    "Пропущенных данных нет. Все атрибуты имеют корректный тип данных"
   ]
  },
  {
   "cell_type": "code",
   "execution_count": 4,
   "metadata": {},
   "outputs": [
    {
     "data": {
      "text/plain": [
       "0"
      ]
     },
     "execution_count": 4,
     "metadata": {},
     "output_type": "execute_result"
    }
   ],
   "source": [
    "rest_data.duplicated().sum()"
   ]
  },
  {
   "cell_type": "markdown",
   "metadata": {},
   "source": [
    "Дубликатов в таблице нет"
   ]
  },
  {
   "cell_type": "code",
   "execution_count": 5,
   "metadata": {},
   "outputs": [
    {
     "data": {
      "text/html": [
       "<div>\n",
       "<style scoped>\n",
       "    .dataframe tbody tr th:only-of-type {\n",
       "        vertical-align: middle;\n",
       "    }\n",
       "\n",
       "    .dataframe tbody tr th {\n",
       "        vertical-align: top;\n",
       "    }\n",
       "\n",
       "    .dataframe thead th {\n",
       "        text-align: right;\n",
       "    }\n",
       "</style>\n",
       "<table border=\"1\" class=\"dataframe\">\n",
       "  <thead>\n",
       "    <tr style=\"text-align: right;\">\n",
       "      <th></th>\n",
       "      <th>id</th>\n",
       "      <th>object_name</th>\n",
       "      <th>chain</th>\n",
       "      <th>object_type</th>\n",
       "      <th>address</th>\n",
       "      <th>number</th>\n",
       "    </tr>\n",
       "  </thead>\n",
       "  <tbody>\n",
       "    <tr>\n",
       "      <td>0</td>\n",
       "      <td>151635</td>\n",
       "      <td>СМЕТАНА</td>\n",
       "      <td>нет</td>\n",
       "      <td>кафе</td>\n",
       "      <td>город Москва, улица Егора Абакумова, дом 9</td>\n",
       "      <td>48</td>\n",
       "    </tr>\n",
       "    <tr>\n",
       "      <td>1</td>\n",
       "      <td>77874</td>\n",
       "      <td>Родник</td>\n",
       "      <td>нет</td>\n",
       "      <td>кафе</td>\n",
       "      <td>город Москва, улица Талалихина, дом 2/1, корпус 1</td>\n",
       "      <td>35</td>\n",
       "    </tr>\n",
       "    <tr>\n",
       "      <td>2</td>\n",
       "      <td>24309</td>\n",
       "      <td>Кафе «Академия»</td>\n",
       "      <td>нет</td>\n",
       "      <td>кафе</td>\n",
       "      <td>город Москва, Абельмановская улица, дом 6</td>\n",
       "      <td>95</td>\n",
       "    </tr>\n",
       "    <tr>\n",
       "      <td>3</td>\n",
       "      <td>21894</td>\n",
       "      <td>ПИЦЦЕТОРИЯ</td>\n",
       "      <td>да</td>\n",
       "      <td>кафе</td>\n",
       "      <td>город Москва, Абрамцевская улица, дом 1</td>\n",
       "      <td>40</td>\n",
       "    </tr>\n",
       "    <tr>\n",
       "      <td>4</td>\n",
       "      <td>119365</td>\n",
       "      <td>Кафе «Вишневая метель»</td>\n",
       "      <td>нет</td>\n",
       "      <td>кафе</td>\n",
       "      <td>город Москва, Абрамцевская улица, дом 9, корпус 1</td>\n",
       "      <td>50</td>\n",
       "    </tr>\n",
       "  </tbody>\n",
       "</table>\n",
       "</div>"
      ],
      "text/plain": [
       "       id             object_name chain object_type  \\\n",
       "0  151635                 СМЕТАНА   нет        кафе   \n",
       "1   77874                  Родник   нет        кафе   \n",
       "2   24309         Кафе «Академия»   нет        кафе   \n",
       "3   21894              ПИЦЦЕТОРИЯ    да        кафе   \n",
       "4  119365  Кафе «Вишневая метель»   нет        кафе   \n",
       "\n",
       "                                             address  number  \n",
       "0         город Москва, улица Егора Абакумова, дом 9      48  \n",
       "1  город Москва, улица Талалихина, дом 2/1, корпус 1      35  \n",
       "2          город Москва, Абельмановская улица, дом 6      95  \n",
       "3            город Москва, Абрамцевская улица, дом 1      40  \n",
       "4  город Москва, Абрамцевская улица, дом 9, корпус 1      50  "
      ]
     },
     "metadata": {},
     "output_type": "display_data"
    }
   ],
   "source": [
    "display(rest_data.head(5))"
   ]
  },
  {
   "cell_type": "markdown",
   "metadata": {},
   "source": [
    "**Исследуйте соотношение видов объектов общественного питания по количеству. Постройте график**"
   ]
  },
  {
   "cell_type": "code",
   "execution_count": 6,
   "metadata": {},
   "outputs": [],
   "source": [
    "object_type = rest_data.groupby('object_type')['id'].count().sort_values(ascending=False).reset_index()"
   ]
  },
  {
   "cell_type": "code",
   "execution_count": 7,
   "metadata": {},
   "outputs": [
    {
     "data": {
      "image/png": "[encoded data removed]",
      "text/plain": [
       "<Figure size 576x432 with 1 Axes>"
      ]
     },
     "metadata": {
      "needs_background": "light"
     },
     "output_type": "display_data"
    }
   ],
   "source": [
    "plt.figure(figsize=(8, 6))\n",
    "sns.barplot(x='object_type', y='id', \n",
    "              data=object_type, palette=\"Paired\")\n",
    "sns.set_style(\"ticks\") \n",
    "sns.despine()\n",
    "plt.xlabel('тип заведения')\n",
    "plt.ylabel('кол-во заведений')\n",
    "plt.xticks(rotation=90)\n",
    "plt.title('Виды объектов общественного питания'); "
   ]
  },
  {
   "cell_type": "markdown",
   "metadata": {},
   "source": [
    "На первом месте по количеству заведений столовые и кафе. На последнем кафетерии, закусочные и отделы кулинарии в магазинах"
   ]
  },
  {
   "cell_type": "markdown",
   "metadata": {},
   "source": [
    "**Исследуйте соотношение сетевых и несетевых заведений по количеству. Постройте график**"
   ]
  },
  {
   "cell_type": "code",
   "execution_count": 8,
   "metadata": {},
   "outputs": [
    {
     "data": {
      "text/html": [
       "<div>\n",
       "<style scoped>\n",
       "    .dataframe tbody tr th:only-of-type {\n",
       "        vertical-align: middle;\n",
       "    }\n",
       "\n",
       "    .dataframe tbody tr th {\n",
       "        vertical-align: top;\n",
       "    }\n",
       "\n",
       "    .dataframe thead th {\n",
       "        text-align: right;\n",
       "    }\n",
       "</style>\n",
       "<table border=\"1\" class=\"dataframe\">\n",
       "  <thead>\n",
       "    <tr style=\"text-align: right;\">\n",
       "      <th></th>\n",
       "      <th>chain</th>\n",
       "      <th>id</th>\n",
       "    </tr>\n",
       "  </thead>\n",
       "  <tbody>\n",
       "    <tr>\n",
       "      <td>0</td>\n",
       "      <td>нет</td>\n",
       "      <td>12398</td>\n",
       "    </tr>\n",
       "    <tr>\n",
       "      <td>1</td>\n",
       "      <td>да</td>\n",
       "      <td>2968</td>\n",
       "    </tr>\n",
       "  </tbody>\n",
       "</table>\n",
       "</div>"
      ],
      "text/plain": [
       "  chain     id\n",
       "0   нет  12398\n",
       "1    да   2968"
      ]
     },
     "execution_count": 8,
     "metadata": {},
     "output_type": "execute_result"
    }
   ],
   "source": [
    "n_chain = rest_data.groupby('chain')['id'].count().sort_values(ascending=False).reset_index()\n",
    "n_chain "
   ]
  },
  {
   "cell_type": "code",
   "execution_count": 9,
   "metadata": {},
   "outputs": [
    {
     "data": {
      "image/png": "[encoded data removed]",
      "text/plain": [
       "<Figure size 576x432 with 1 Axes>"
      ]
     },
     "metadata": {},
     "output_type": "display_data"
    }
   ],
   "source": [
    "plt.figure(figsize=(8, 6))\n",
    "sns.stripplot(x='chain', y='number', \n",
    "              data=rest_data, palette=\"Paired\")\n",
    "sns.set_style(\"ticks\") \n",
    "sns.despine()\n",
    "plt.xlabel('сеть')\n",
    "plt.ylabel('кол-во мест')\n",
    "plt.title('Количество мест в сетевых и несетевых заведениях'); "
   ]
  },
  {
   "cell_type": "markdown",
   "metadata": {},
   "source": [
    "Среди заведений общественного питания больше несетевых. В несетвых так же больше мест в среднем, чем в сетевых заведениях"
   ]
  },
  {
   "cell_type": "markdown",
   "metadata": {},
   "source": [
    "**Для какого вида объекта общественного питания характерно сетевое распространение?**"
   ]
  },
  {
   "cell_type": "code",
   "execution_count": 10,
   "metadata": {},
   "outputs": [],
   "source": [
    "object_type = rest_data.groupby(['object_type', 'chain'])['id'].count().sort_values(ascending=False).reset_index()"
   ]
  },
  {
   "cell_type": "code",
   "execution_count": 11,
   "metadata": {},
   "outputs": [
    {
     "data": {
      "image/png": "[encoded data removed]",
      "text/plain": [
       "<Figure size 432x432 with 1 Axes>"
      ]
     },
     "metadata": {},
     "output_type": "display_data"
    }
   ],
   "source": [
    "sns.catplot(\n",
    "    data=object_type, kind=\"bar\",\n",
    "    x=\"id\", y=\"object_type\", hue=\"chain\",\n",
    "    ci=\"sd\", palette=\"Paired\", alpha=.6, height=6, legend_out = False)\n",
    "sns.set_style(\"ticks\") \n",
    "sns.despine()\n",
    "plt.xlabel('кол-во заведений')\n",
    "plt.ylabel('тип заведеня')\n",
    "plt.legend(title='Сеть', loc='lower right')\n",
    "plt.title('Сетевое распространение по типам заведений');"
   ]
  },
  {
   "cell_type": "markdown",
   "metadata": {},
   "source": [
    "Больше всего сетевых заведений среди кафе и предприятий быстрого обслуживания"
   ]
  },
  {
   "cell_type": "markdown",
   "metadata": {},
   "source": [
    "**Что характерно для сетевых заведений: много заведений с небольшим числом посадочных мест в каждом или мало заведений с большим количеством посадочных мест?**"
   ]
  },
  {
   "cell_type": "code",
   "execution_count": 12,
   "metadata": {},
   "outputs": [],
   "source": [
    "rest = rest_data[rest_data['chain']=='да'].pivot_table(values=['number','id'], index='object_name', \n",
    "                                                aggfunc={'number': 'mean', 'id':'count'}).reset_index()"
   ]
  },
  {
   "cell_type": "code",
   "execution_count": 13,
   "metadata": {},
   "outputs": [
    {
     "data": {
      "image/png": "[encoded data removed]",
      "text/plain": [
       "<Figure size 576x432 with 1 Axes>"
      ]
     },
     "metadata": {},
     "output_type": "display_data"
    }
   ],
   "source": [
    "plt.figure(figsize=(8, 6))\n",
    "sns.scatterplot(y='id', x='number', data=rest)\n",
    "sns.set_style(\"ticks\") \n",
    "sns.despine() \n",
    "plt.xlabel('кол-во мест')\n",
    "plt.ylabel('кол-во заведений')\n",
    "plt.title('Взаимосвязь кол-ва мест с кол-вом сетевых заведений');"
   ]
  },
  {
   "cell_type": "code",
   "execution_count": 14,
   "metadata": {},
   "outputs": [
    {
     "name": "stdout",
     "output_type": "stream",
     "text": [
      "Коэффициент корреляции Пирсона:  -0.04286790933691214\n",
      "p-value: 0.24932353517188918\n"
     ]
    }
   ],
   "source": [
    "pearson_coef, p_value = stats.pearsonr(rest[\"id\"], rest[\"number\"])\n",
    "print(\"Коэффициент корреляции Пирсона: \", pearson_coef)\n",
    "print(\"p-value:\", p_value)  "
   ]
  },
  {
   "cell_type": "markdown",
   "metadata": {},
   "source": [
    "По графику можно сказать, что маленькое количество завдедений с большим количеством мест и большое количество заведений с маленьким количеством мест - исключения. Самое большое количество наблюдений сконцентрировано в левом нижнем углу графика. Для небольшого количества заведений (3-5) среднее количество посадочных мест может быть разным (видим большую концентрацию точек вдоль одной прямой с количеством заведений). Коэффициент корреляции Пирсона маленький и статистически незначимый на уровне значимости 0.05. Это также свидетельствует о том, что линейной связи между количеством мест и заведений у сети нет."
   ]
  },
  {
   "cell_type": "markdown",
   "metadata": {},
   "source": [
    "**Для каждого вида объекта общественного питания опишите среднее количество посадочных мест. Какой вид предоставляет в среднем самое большое количество посадочных мест? Постройте графики**"
   ]
  },
  {
   "cell_type": "code",
   "execution_count": 15,
   "metadata": {},
   "outputs": [
    {
     "data": {
      "image/png": "[encoded data removed]",
      "text/plain": [
       "<Figure size 1080x648 with 1 Axes>"
      ]
     },
     "metadata": {},
     "output_type": "display_data"
    }
   ],
   "source": [
    "plt.figure(figsize=(15, 9))\n",
    "sns.boxplot(x=\"object_type\", y=\"number\", data=rest_data, palette='rainbow').set_title('Среднее количество посадочных мест по видам заведений')\n",
    "sns.color_palette(\"Set2\")\n",
    "plt.xlabel('тип заведения')\n",
    "plt.xticks(rotation=45); "
   ]
  },
  {
   "cell_type": "markdown",
   "metadata": {},
   "source": [
    "\"Ящики с усами\" позволяют увидеть, что больше всего посадочных мест предоставляют столовые и рестораны (смотрим на линию медианы). Для ресторанов характерно много выбросов в большую сторону"
   ]
  },
  {
   "cell_type": "code",
   "execution_count": 16,
   "metadata": {},
   "outputs": [
    {
     "data": {
      "text/plain": [
       "object_type\n",
       "бар                                   43.494159\n",
       "буфет                                 51.129915\n",
       "закусочная                             7.608333\n",
       "кафе                                  39.716019\n",
       "кафетерий                              9.123116\n",
       "магазин (отдел кулинарии)              5.589744\n",
       "предприятие быстрого обслуживания     20.552262\n",
       "ресторан                              96.834136\n",
       "столовая                             130.246618\n",
       "Name: number, dtype: float64"
      ]
     },
     "execution_count": 16,
     "metadata": {},
     "output_type": "execute_result"
    }
   ],
   "source": [
    "rest_data.groupby('object_type')['number'].mean()"
   ]
  },
  {
   "cell_type": "markdown",
   "metadata": {},
   "source": [
    "Больше всего посадочных мест в среднем предоставляют столовые"
   ]
  },
  {
   "cell_type": "markdown",
   "metadata": {},
   "source": [
    "**Выделите в отдельный столбец информацию об улице из столбца address**"
   ]
  },
  {
   "cell_type": "code",
   "execution_count": 17,
   "metadata": {},
   "outputs": [],
   "source": [
    "f = lambda x: x['address'].split(sep=',')[1]\n",
    "rest_data['street'] = rest_data.apply(f, axis=1)"
   ]
  },
  {
   "cell_type": "markdown",
   "metadata": {},
   "source": [
    "**Постройте график топ-10 улиц по количеству объектов общественного питания. Воспользуйтесь внешней информацией и ответьте на вопрос — в каких районах Москвы находятся эти улицы?**"
   ]
  },
  {
   "cell_type": "code",
   "execution_count": 18,
   "metadata": {},
   "outputs": [],
   "source": [
    "top10streets = rest_data.groupby(['street'])['id'].count().sort_values(ascending=False).head(12).reset_index()\n",
    "top10streets\n",
    "\n",
    "top10streets = top10streets.drop(top10streets.index [0]) \n",
    "top10streets = top10streets.drop(top10streets.index [6])\n",
    "top10streets = top10streets.reset_index()\n",
    "\n",
    "top10streets = top10streets[['street', 'id']]"
   ]
  },
  {
   "cell_type": "markdown",
   "metadata": {},
   "source": [
    "В список улиц попали Зеленоград и поселение Сосенское. Нужно удалить их из списка, так как эти административные единицы нельзя назвать улицами"
   ]
  },
  {
   "cell_type": "code",
   "execution_count": 19,
   "metadata": {},
   "outputs": [
    {
     "data": {
      "image/png": "[encoded data removed]",
      "text/plain": [
       "<Figure size 576x432 with 1 Axes>"
      ]
     },
     "metadata": {},
     "output_type": "display_data"
    }
   ],
   "source": [
    "plt.figure(figsize=(8, 6))\n",
    "sns.barplot(x='street', y='id', data=top10streets)\n",
    "sns.set_style(\"ticks\") \n",
    "sns.despine()\n",
    "plt.xlabel('улица')\n",
    "plt.ylabel('кол-во заведений')\n",
    "plt.xticks(rotation=90)\n",
    "plt.title('Топ-10 улиц по количеству заведений общепита'); "
   ]
  },
  {
   "cell_type": "markdown",
   "metadata": {},
   "source": [
    "Теперь к каждой улице нужно проставить район, в котором эта улица находится. Для этого я использую информацию с внешнего сайти"
   ]
  },
  {
   "cell_type": "code",
   "execution_count": 20,
   "metadata": {},
   "outputs": [],
   "source": [
    "#Сайт со списком улиц, округов и районов\n",
    "URL = 'http://xn----7sbbj7ab0abgod6a9h.xn--80adxhks/%D0%B2%D1%81%D0%B5_%D1%83%D0%BB%D0%B8%D1%86%D1%8B_%D0%BC%D0%BE%D1%81%D0%BA%D0%B2%D1%8B?'"
   ]
  },
  {
   "cell_type": "code",
   "execution_count": 21,
   "metadata": {},
   "outputs": [],
   "source": [
    "PARAM={\"page\": \"1\"}\n",
    "req = requests.get(url = URL, params = PARAM) "
   ]
  },
  {
   "cell_type": "code",
   "execution_count": 22,
   "metadata": {},
   "outputs": [],
   "source": [
    "from bs4 import BeautifulSoup\n",
    "soup=BeautifulSoup(req.text, 'lxml') "
   ]
  },
  {
   "cell_type": "code",
   "execution_count": 23,
   "metadata": {},
   "outputs": [],
   "source": [
    "table = soup.find(\"table\")"
   ]
  },
  {
   "cell_type": "code",
   "execution_count": 24,
   "metadata": {},
   "outputs": [],
   "source": [
    "heading_table = [] \n",
    "for row in table.find_all('th'):\n",
    "        heading_table.append(row.text) "
   ]
  },
  {
   "cell_type": "code",
   "execution_count": 25,
   "metadata": {},
   "outputs": [],
   "source": [
    "content=[] \n",
    "num_of_page = 309\n",
    "\n",
    "for i in range(1, num_of_page+1): \n",
    "    r = requests.get(URL, {'page': str(i)})  \n",
    "    soup = BeautifulSoup(r.text, 'lxml')\n",
    "    table = soup.find(\"table\")\n",
    "    for row in table.find_all('tr'): \n",
    "        if not row.find_all('th'): \n",
    "            content.append([element.text for element in row.find_all('td')])"
   ]
  },
  {
   "cell_type": "code",
   "execution_count": 26,
   "metadata": {},
   "outputs": [],
   "source": [
    "moscow = pd.DataFrame(content, columns=heading_table) "
   ]
  },
  {
   "cell_type": "code",
   "execution_count": 27,
   "metadata": {},
   "outputs": [
    {
     "name": "stdout",
     "output_type": "stream",
     "text": [
      "<class 'pandas.core.frame.DataFrame'>\n",
      "RangeIndex: 6488 entries, 0 to 6487\n",
      "Data columns (total 5 columns):\n",
      "Наименование              6488 non-null object\n",
      "Тип                       6488 non-null object\n",
      "Индекс                    6488 non-null object\n",
      "Административный округ    6488 non-null object\n",
      "Район                     6488 non-null object\n",
      "dtypes: object(5)\n",
      "memory usage: 253.6+ KB\n"
     ]
    }
   ],
   "source": [
    "moscow.info()"
   ]
  },
  {
   "cell_type": "code",
   "execution_count": 28,
   "metadata": {},
   "outputs": [],
   "source": [
    "moscow = moscow[['Наименование', 'Тип', 'Район', 'Административный округ']]\n",
    "moscow.rename(columns={'Наименование': 'street', 'Тип': 'type', 'Район': 'district', 'Административный округ':'okrug'}, inplace=True)"
   ]
  },
  {
   "cell_type": "code",
   "execution_count": 29,
   "metadata": {},
   "outputs": [],
   "source": [
    "moscow = moscow[moscow['street']!='']"
   ]
  },
  {
   "cell_type": "code",
   "execution_count": 30,
   "metadata": {},
   "outputs": [],
   "source": [
    "moscow = moscow.drop_duplicates().reset_index(drop = True)"
   ]
  },
  {
   "cell_type": "code",
   "execution_count": 31,
   "metadata": {},
   "outputs": [
    {
     "data": {
      "text/html": [
       "<div>\n",
       "<style scoped>\n",
       "    .dataframe tbody tr th:only-of-type {\n",
       "        vertical-align: middle;\n",
       "    }\n",
       "\n",
       "    .dataframe tbody tr th {\n",
       "        vertical-align: top;\n",
       "    }\n",
       "\n",
       "    .dataframe thead th {\n",
       "        text-align: right;\n",
       "    }\n",
       "</style>\n",
       "<table border=\"1\" class=\"dataframe\">\n",
       "  <thead>\n",
       "    <tr style=\"text-align: right;\">\n",
       "      <th></th>\n",
       "      <th>street</th>\n",
       "      <th>type</th>\n",
       "      <th>district</th>\n",
       "      <th>okrug</th>\n",
       "    </tr>\n",
       "  </thead>\n",
       "  <tbody>\n",
       "    <tr>\n",
       "      <td>0</td>\n",
       "      <td>1</td>\n",
       "      <td>мкр</td>\n",
       "      <td>Десёновское поселение</td>\n",
       "      <td>Новомосковский административный округ</td>\n",
       "    </tr>\n",
       "    <tr>\n",
       "      <td>1</td>\n",
       "      <td>1 Маевки</td>\n",
       "      <td>аллея</td>\n",
       "      <td>район Вешняки</td>\n",
       "      <td>Восточный административный округ</td>\n",
       "    </tr>\n",
       "    <tr>\n",
       "      <td>2</td>\n",
       "      <td>1 Мая</td>\n",
       "      <td>ул</td>\n",
       "      <td>район Крюково</td>\n",
       "      <td>Зеленоградский административный округ</td>\n",
       "    </tr>\n",
       "    <tr>\n",
       "      <td>3</td>\n",
       "      <td>1-й</td>\n",
       "      <td>мкр</td>\n",
       "      <td>Внуковское поселение</td>\n",
       "      <td>Новомосковский административный округ</td>\n",
       "    </tr>\n",
       "    <tr>\n",
       "      <td>4</td>\n",
       "      <td>1-й</td>\n",
       "      <td>пр-кт</td>\n",
       "      <td>район Ивановское</td>\n",
       "      <td>Восточный административный округ</td>\n",
       "    </tr>\n",
       "  </tbody>\n",
       "</table>\n",
       "</div>"
      ],
      "text/plain": [
       "     street   type               district  \\\n",
       "0         1    мкр  Десёновское поселение   \n",
       "1  1 Маевки  аллея          район Вешняки   \n",
       "2     1 Мая     ул          район Крюково   \n",
       "3       1-й    мкр   Внуковское поселение   \n",
       "4       1-й  пр-кт       район Ивановское   \n",
       "\n",
       "                                   okrug  \n",
       "0  Новомосковский административный округ  \n",
       "1       Восточный административный округ  \n",
       "2  Зеленоградский административный округ  \n",
       "3  Новомосковский административный округ  \n",
       "4       Восточный административный округ  "
      ]
     },
     "metadata": {},
     "output_type": "display_data"
    }
   ],
   "source": [
    "display(moscow.head(5))"
   ]
  },
  {
   "cell_type": "code",
   "execution_count": 32,
   "metadata": {},
   "outputs": [],
   "source": [
    "moscow['street2'] = moscow.apply(lambda x: x['street'].replace(' ',''), axis=1)"
   ]
  },
  {
   "cell_type": "code",
   "execution_count": 33,
   "metadata": {},
   "outputs": [
    {
     "data": {
      "text/plain": [
       "array(['мкр', 'аллея', 'ул', 'пр-кт', 'проезд', 'пер', 'просек', 'кв-л',\n",
       "       'туп', 'линия', 'ш', 'пл', 'просека', 'б-р', 'наб', 'ст', 'км',\n",
       "       'тер', 'гск', 'стр', 'парк', 'п', 'д', 'нп', 'городок', 'дор',\n",
       "       'проселок', 'снт', 'платф', 'х'], dtype=object)"
      ]
     },
     "execution_count": 33,
     "metadata": {},
     "output_type": "execute_result"
    }
   ],
   "source": [
    "moscow['type'].unique()"
   ]
  },
  {
   "cell_type": "code",
   "execution_count": 34,
   "metadata": {},
   "outputs": [],
   "source": [
    "street_types = ['улица','проспект','проезд','переулок','площадь','линия','набережная','тупик','бульвар',\n",
    "'шоссе','аллея']\n",
    "types_short = ['ул','пр-кт','проезд','пер','пл','линия','наб','ту','б-р',\n",
    "'шоссе','аллея']"
   ]
  },
  {
   "cell_type": "code",
   "execution_count": 35,
   "metadata": {},
   "outputs": [],
   "source": [
    "a=[]\n",
    "for i in top10streets['street']:\n",
    "    for word in street_types:\n",
    "        if word in i:\n",
    "            a.append(word)\n",
    "top10streets['street_types'] = a"
   ]
  },
  {
   "cell_type": "code",
   "execution_count": 36,
   "metadata": {},
   "outputs": [],
   "source": [
    "types = pd.DataFrame({'street_types':['шоссе', 'улица','проспект','проезд','переулок','площадь','линия','набережная','тупик','бульвар',\n",
    "'шоссе','аллея', 'просек'], 'types':['ш', 'ул','пр-кт','проезд','пер','пл','линия','наб','ту','б-р',\n",
    "'шоссе','аллея','просек']})"
   ]
  },
  {
   "cell_type": "code",
   "execution_count": 37,
   "metadata": {},
   "outputs": [],
   "source": [
    "top10streets = top10streets.merge(types, on='street_types', how='left')"
   ]
  },
  {
   "cell_type": "code",
   "execution_count": 38,
   "metadata": {},
   "outputs": [],
   "source": [
    "b = []\n",
    "for i in top10streets['street']:\n",
    "    for word in street_types:\n",
    "        if word in i:\n",
    "            b.append(i.replace(word,''))\n",
    "            \n",
    "top10streets['street_short'] = b\n",
    "top10streets['street2'] = top10streets.apply(lambda x: x['street_short'].replace(' ',''), axis=1)"
   ]
  },
  {
   "cell_type": "code",
   "execution_count": 39,
   "metadata": {},
   "outputs": [],
   "source": [
    "top10withdistricts = top10streets.merge(moscow, left_on=['street2','types'], right_on=['street2','type'], how='inner')"
   ]
  },
  {
   "cell_type": "code",
   "execution_count": 40,
   "metadata": {},
   "outputs": [],
   "source": [
    "top10withdistricts = top10withdistricts[['street_x', 'district', 'okrug']]\n",
    "top10withdistricts.rename(columns={'street_x': 'street'}, inplace=True)"
   ]
  },
  {
   "cell_type": "code",
   "execution_count": 41,
   "metadata": {},
   "outputs": [
    {
     "data": {
      "text/html": [
       "<div>\n",
       "<style scoped>\n",
       "    .dataframe tbody tr th:only-of-type {\n",
       "        vertical-align: middle;\n",
       "    }\n",
       "\n",
       "    .dataframe tbody tr th {\n",
       "        vertical-align: top;\n",
       "    }\n",
       "\n",
       "    .dataframe thead th {\n",
       "        text-align: right;\n",
       "    }\n",
       "</style>\n",
       "<table border=\"1\" class=\"dataframe\">\n",
       "  <thead>\n",
       "    <tr style=\"text-align: right;\">\n",
       "      <th></th>\n",
       "      <th>street</th>\n",
       "      <th>district</th>\n",
       "      <th>okrug</th>\n",
       "    </tr>\n",
       "  </thead>\n",
       "  <tbody>\n",
       "    <tr>\n",
       "      <td>0</td>\n",
       "      <td>проспект Мира</td>\n",
       "      <td>Алексеевский район</td>\n",
       "      <td>Северо-Восточный административный округ</td>\n",
       "    </tr>\n",
       "    <tr>\n",
       "      <td>1</td>\n",
       "      <td>Профсоюзная улица</td>\n",
       "      <td>Рязановское поселение</td>\n",
       "      <td>Новомосковский административный округ</td>\n",
       "    </tr>\n",
       "    <tr>\n",
       "      <td>2</td>\n",
       "      <td>Профсоюзная улица</td>\n",
       "      <td>район Коньково</td>\n",
       "      <td>Юго-Западный административный округ</td>\n",
       "    </tr>\n",
       "    <tr>\n",
       "      <td>3</td>\n",
       "      <td>Ленинградский проспект</td>\n",
       "      <td>Хорошевский район</td>\n",
       "      <td>Северный административный округ</td>\n",
       "    </tr>\n",
       "    <tr>\n",
       "      <td>4</td>\n",
       "      <td>Пресненская набережная</td>\n",
       "      <td>Пресненский район</td>\n",
       "      <td>Центральный административный округ</td>\n",
       "    </tr>\n",
       "    <tr>\n",
       "      <td>5</td>\n",
       "      <td>Варшавское шоссе</td>\n",
       "      <td>район Чертаново Центральное</td>\n",
       "      <td>Южный административный округ</td>\n",
       "    </tr>\n",
       "    <tr>\n",
       "      <td>6</td>\n",
       "      <td>Ленинский проспект</td>\n",
       "      <td>Ломоносовский район</td>\n",
       "      <td>Юго-Западный административный округ</td>\n",
       "    </tr>\n",
       "    <tr>\n",
       "      <td>7</td>\n",
       "      <td>проспект Вернадского</td>\n",
       "      <td>Ломоносовский район</td>\n",
       "      <td>Юго-Западный административный округ</td>\n",
       "    </tr>\n",
       "    <tr>\n",
       "      <td>8</td>\n",
       "      <td>Кутузовский проспект</td>\n",
       "      <td>район Дорогомилово</td>\n",
       "      <td>Западный административный округ</td>\n",
       "    </tr>\n",
       "    <tr>\n",
       "      <td>9</td>\n",
       "      <td>Каширское шоссе</td>\n",
       "      <td>район Москворечье-Сабурово</td>\n",
       "      <td>Южный административный округ</td>\n",
       "    </tr>\n",
       "    <tr>\n",
       "      <td>10</td>\n",
       "      <td>Кировоградская улица</td>\n",
       "      <td>район Чертаново Центральное</td>\n",
       "      <td>Южный административный округ</td>\n",
       "    </tr>\n",
       "  </tbody>\n",
       "</table>\n",
       "</div>"
      ],
      "text/plain": [
       "                     street                     district  \\\n",
       "0             проспект Мира           Алексеевский район   \n",
       "1         Профсоюзная улица        Рязановское поселение   \n",
       "2         Профсоюзная улица               район Коньково   \n",
       "3    Ленинградский проспект            Хорошевский район   \n",
       "4    Пресненская набережная            Пресненский район   \n",
       "5          Варшавское шоссе  район Чертаново Центральное   \n",
       "6        Ленинский проспект          Ломоносовский район   \n",
       "7      проспект Вернадского          Ломоносовский район   \n",
       "8      Кутузовский проспект           район Дорогомилово   \n",
       "9           Каширское шоссе   район Москворечье-Сабурово   \n",
       "10     Кировоградская улица  район Чертаново Центральное   \n",
       "\n",
       "                                      okrug  \n",
       "0   Северо-Восточный административный округ  \n",
       "1     Новомосковский административный округ  \n",
       "2       Юго-Западный административный округ  \n",
       "3           Северный административный округ  \n",
       "4        Центральный административный округ  \n",
       "5              Южный административный округ  \n",
       "6       Юго-Западный административный округ  \n",
       "7       Юго-Западный административный округ  \n",
       "8           Западный административный округ  \n",
       "9              Южный административный округ  \n",
       "10             Южный административный округ  "
      ]
     },
     "metadata": {},
     "output_type": "display_data"
    }
   ],
   "source": [
    "display(top10withdistricts)"
   ]
  },
  {
   "cell_type": "markdown",
   "metadata": {},
   "source": [
    "По районам видим, что большая концентрация кафе сосредоточена не только в центре Москвы (исключение - Пресненская набережная). Вообще есть ощущение, что большое количество кафе характерно для южных районов Москвы. Улица Профсоюзная относится к двум районам, судя по информации из справочника, который я запарсила"
   ]
  },
  {
   "cell_type": "markdown",
   "metadata": {},
   "source": [
    "**Найдите число улиц с одним объектом общественного питания. Воспользуйтесь внешней информацией и ответьте на вопрос — в каких районах Москвы находятся эти улицы?**"
   ]
  },
  {
   "cell_type": "code",
   "execution_count": 42,
   "metadata": {},
   "outputs": [],
   "source": [
    "streets_with1 = rest_data.groupby(['street'])['id'].count().sort_values(ascending=False).reset_index()"
   ]
  },
  {
   "cell_type": "code",
   "execution_count": 43,
   "metadata": {},
   "outputs": [
    {
     "data": {
      "text/plain": [
       "579"
      ]
     },
     "execution_count": 43,
     "metadata": {},
     "output_type": "execute_result"
    }
   ],
   "source": [
    "streets_with1 = streets_with1[streets_with1['id']==1].reset_index()\n",
    "streets_with1.shape[0]"
   ]
  },
  {
   "cell_type": "markdown",
   "metadata": {},
   "source": [
    "Найдено 579 улиц с одним заведением общественного питания"
   ]
  },
  {
   "cell_type": "code",
   "execution_count": 44,
   "metadata": {},
   "outputs": [],
   "source": [
    "n=[]\n",
    "pattern = 'улица|шоссе|набережная|проспект|проезд|переулок|площадь|линия|тупик|бульвар|аллея|просек'\n",
    "for i in streets_with1['street']:\n",
    "    n.append(re.findall(pattern, i))\n",
    "    #print(re.findall(pattern, i))\n",
    "#streets_with1['street_type'] =n\n",
    "#n\n",
    "n = list(map(''.join, n))\n",
    "streets_with1['street_types'] =n"
   ]
  },
  {
   "cell_type": "code",
   "execution_count": 45,
   "metadata": {},
   "outputs": [],
   "source": [
    "m=[]\n",
    "pattern = 'улица|шоссе|набережная|проспект|проезд|переулок|площадь|линия|тупик|бульвар|аллея|просек'\n",
    "for i in streets_with1['street']:\n",
    "    m.append(re.sub(pattern, '', i))\n",
    "m = list(map(''.join, m))\n",
    "streets_with1['street_short'] =m\n",
    "f6 = lambda x: x['street2'].replace(' ','')\n",
    "streets_with1['street_short'] = streets_with1.apply(lambda x: x['street_short'].replace(' ',''), axis=1)"
   ]
  },
  {
   "cell_type": "code",
   "execution_count": 46,
   "metadata": {},
   "outputs": [],
   "source": [
    "streets_with1 = streets_with1.merge(types, on='street_types', how='inner')"
   ]
  },
  {
   "cell_type": "code",
   "execution_count": 47,
   "metadata": {},
   "outputs": [
    {
     "name": "stdout",
     "output_type": "stream",
     "text": [
      "<class 'pandas.core.frame.DataFrame'>\n",
      "Int64Index: 533 entries, 0 to 532\n",
      "Data columns (total 6 columns):\n",
      "index           533 non-null int64\n",
      "street          533 non-null object\n",
      "id              533 non-null int64\n",
      "street_types    533 non-null object\n",
      "street_short    533 non-null object\n",
      "types           533 non-null object\n",
      "dtypes: int64(2), object(4)\n",
      "memory usage: 29.1+ KB\n"
     ]
    }
   ],
   "source": [
    "streets_with1.info()"
   ]
  },
  {
   "cell_type": "code",
   "execution_count": 48,
   "metadata": {},
   "outputs": [],
   "source": [
    "streets_with1district = streets_with1.merge(moscow, left_on=['street_short', 'types'], right_on=['street2','type'], how='left')"
   ]
  },
  {
   "cell_type": "code",
   "execution_count": 49,
   "metadata": {},
   "outputs": [
    {
     "name": "stdout",
     "output_type": "stream",
     "text": [
      "<class 'pandas.core.frame.DataFrame'>\n",
      "Int64Index: 568 entries, 0 to 567\n",
      "Data columns (total 11 columns):\n",
      "index           568 non-null int64\n",
      "street_x        568 non-null object\n",
      "id              568 non-null int64\n",
      "street_types    568 non-null object\n",
      "street_short    568 non-null object\n",
      "types           568 non-null object\n",
      "street_y        545 non-null object\n",
      "type            545 non-null object\n",
      "district        545 non-null object\n",
      "okrug           545 non-null object\n",
      "street2         545 non-null object\n",
      "dtypes: int64(2), object(9)\n",
      "memory usage: 53.2+ KB\n"
     ]
    }
   ],
   "source": [
    "streets_with1district.info()"
   ]
  },
  {
   "cell_type": "markdown",
   "metadata": {},
   "source": [
    "В итоговой таблице получилось больше строк, чем в исходной, потому что одна улица может принадлежать нескольким районам"
   ]
  },
  {
   "cell_type": "code",
   "execution_count": 50,
   "metadata": {},
   "outputs": [],
   "source": [
    "streets_with1district = streets_with1district[['street_x', 'district', 'okrug']]\n",
    "streets_with1district.rename(columns={'street_x': 'street'}, inplace=True)"
   ]
  },
  {
   "cell_type": "code",
   "execution_count": 51,
   "metadata": {},
   "outputs": [
    {
     "data": {
      "text/html": [
       "<div>\n",
       "<style scoped>\n",
       "    .dataframe tbody tr th:only-of-type {\n",
       "        vertical-align: middle;\n",
       "    }\n",
       "\n",
       "    .dataframe tbody tr th {\n",
       "        vertical-align: top;\n",
       "    }\n",
       "\n",
       "    .dataframe thead th {\n",
       "        text-align: right;\n",
       "    }\n",
       "</style>\n",
       "<table border=\"1\" class=\"dataframe\">\n",
       "  <thead>\n",
       "    <tr style=\"text-align: right;\">\n",
       "      <th></th>\n",
       "      <th>street</th>\n",
       "      <th>district</th>\n",
       "      <th>okrug</th>\n",
       "    </tr>\n",
       "  </thead>\n",
       "  <tbody>\n",
       "    <tr>\n",
       "      <td>0</td>\n",
       "      <td>улица Алексея Дикого</td>\n",
       "      <td>район Новогиреево</td>\n",
       "      <td>Восточный административный округ</td>\n",
       "    </tr>\n",
       "    <tr>\n",
       "      <td>1</td>\n",
       "      <td>8-я улица Соколиной Горы</td>\n",
       "      <td>район Соколиная Гора</td>\n",
       "      <td>Восточный административный округ</td>\n",
       "    </tr>\n",
       "    <tr>\n",
       "      <td>2</td>\n",
       "      <td>6-я улица Лазенки</td>\n",
       "      <td>район Ново-Переделкино</td>\n",
       "      <td>Западный административный округ</td>\n",
       "    </tr>\n",
       "    <tr>\n",
       "      <td>3</td>\n",
       "      <td>улица Благуша</td>\n",
       "      <td>район Соколиная Гора</td>\n",
       "      <td>Восточный административный округ</td>\n",
       "    </tr>\n",
       "    <tr>\n",
       "      <td>4</td>\n",
       "      <td>улица Атарбекова</td>\n",
       "      <td>район Преображенское</td>\n",
       "      <td>Восточный административный округ</td>\n",
       "    </tr>\n",
       "    <tr>\n",
       "      <td>5</td>\n",
       "      <td>улица Анатолия Живова</td>\n",
       "      <td>Пресненский район</td>\n",
       "      <td>Центральный административный округ</td>\n",
       "    </tr>\n",
       "    <tr>\n",
       "      <td>6</td>\n",
       "      <td>6-я Кожуховская улица</td>\n",
       "      <td>Южнопортовый район</td>\n",
       "      <td>Юго-Восточный административный округ</td>\n",
       "    </tr>\n",
       "    <tr>\n",
       "      <td>7</td>\n",
       "      <td>улица Богородский Вал</td>\n",
       "      <td>район Преображенское</td>\n",
       "      <td>Восточный административный округ</td>\n",
       "    </tr>\n",
       "    <tr>\n",
       "      <td>8</td>\n",
       "      <td>улица Павла Андреева</td>\n",
       "      <td>Даниловский район</td>\n",
       "      <td>Южный административный округ</td>\n",
       "    </tr>\n",
       "    <tr>\n",
       "      <td>9</td>\n",
       "      <td>6-я улица Новые Сады</td>\n",
       "      <td>район Ново-Переделкино</td>\n",
       "      <td>Западный административный округ</td>\n",
       "    </tr>\n",
       "  </tbody>\n",
       "</table>\n",
       "</div>"
      ],
      "text/plain": [
       "                      street                district  \\\n",
       "0       улица Алексея Дикого       район Новогиреево   \n",
       "1   8-я улица Соколиной Горы    район Соколиная Гора   \n",
       "2          6-я улица Лазенки  район Ново-Переделкино   \n",
       "3              улица Благуша    район Соколиная Гора   \n",
       "4           улица Атарбекова    район Преображенское   \n",
       "5      улица Анатолия Живова       Пресненский район   \n",
       "6      6-я Кожуховская улица      Южнопортовый район   \n",
       "7      улица Богородский Вал    район Преображенское   \n",
       "8       улица Павла Андреева       Даниловский район   \n",
       "9       6-я улица Новые Сады  район Ново-Переделкино   \n",
       "\n",
       "                                  okrug  \n",
       "0      Восточный административный округ  \n",
       "1      Восточный административный округ  \n",
       "2       Западный административный округ  \n",
       "3      Восточный административный округ  \n",
       "4      Восточный административный округ  \n",
       "5    Центральный административный округ  \n",
       "6  Юго-Восточный административный округ  \n",
       "7      Восточный административный округ  \n",
       "8          Южный административный округ  \n",
       "9       Западный административный округ  "
      ]
     },
     "metadata": {},
     "output_type": "display_data"
    }
   ],
   "source": [
    "display(streets_with1district.head(10))"
   ]
  },
  {
   "cell_type": "code",
   "execution_count": 52,
   "metadata": {},
   "outputs": [
    {
     "data": {
      "text/plain": [
       "district\n",
       "Таганский район        25\n",
       "район Хамовники        23\n",
       "Басманный район        22\n",
       "Тверской район         20\n",
       "Пресненский район      17\n",
       "район Марьина роща     17\n",
       "Мещанский район        15\n",
       "район Сокольники       14\n",
       "район Замоскворечье    13\n",
       "район Арбат            12\n",
       "Name: street, dtype: int64"
      ]
     },
     "execution_count": 52,
     "metadata": {},
     "output_type": "execute_result"
    }
   ],
   "source": [
    "streets_with1district.groupby('district')['street'].count().sort_values(ascending=False).head(10)"
   ]
  },
  {
   "cell_type": "markdown",
   "metadata": {},
   "source": [
    "Я выбрала топ-10 районов, в которых больше всего улиц с одним заведением общественного питания. Результат меня немного удивляет, так как кажется, что на всех улицах центральных или многолюдных районов всегда много кафе"
   ]
  },
  {
   "cell_type": "code",
   "execution_count": 53,
   "metadata": {},
   "outputs": [
    {
     "data": {
      "text/html": [
       "<div>\n",
       "<style scoped>\n",
       "    .dataframe tbody tr th:only-of-type {\n",
       "        vertical-align: middle;\n",
       "    }\n",
       "\n",
       "    .dataframe tbody tr th {\n",
       "        vertical-align: top;\n",
       "    }\n",
       "\n",
       "    .dataframe thead th {\n",
       "        text-align: right;\n",
       "    }\n",
       "</style>\n",
       "<table border=\"1\" class=\"dataframe\">\n",
       "  <thead>\n",
       "    <tr style=\"text-align: right;\">\n",
       "      <th></th>\n",
       "      <th>street</th>\n",
       "      <th>district</th>\n",
       "      <th>okrug</th>\n",
       "    </tr>\n",
       "  </thead>\n",
       "  <tbody>\n",
       "    <tr>\n",
       "      <td>123</td>\n",
       "      <td>Композиторская улица</td>\n",
       "      <td>район Арбат</td>\n",
       "      <td>Центральный административный округ</td>\n",
       "    </tr>\n",
       "    <tr>\n",
       "      <td>305</td>\n",
       "      <td>1-й Николощеповский переулок</td>\n",
       "      <td>район Арбат</td>\n",
       "      <td>Центральный административный округ</td>\n",
       "    </tr>\n",
       "    <tr>\n",
       "      <td>326</td>\n",
       "      <td>Калошин переулок</td>\n",
       "      <td>район Арбат</td>\n",
       "      <td>Центральный административный округ</td>\n",
       "    </tr>\n",
       "    <tr>\n",
       "      <td>327</td>\n",
       "      <td>Проточный переулок</td>\n",
       "      <td>район Арбат</td>\n",
       "      <td>Центральный административный округ</td>\n",
       "    </tr>\n",
       "    <tr>\n",
       "      <td>350</td>\n",
       "      <td>Малый Николопесковский переулок</td>\n",
       "      <td>район Арбат</td>\n",
       "      <td>Центральный административный округ</td>\n",
       "    </tr>\n",
       "    <tr>\n",
       "      <td>364</td>\n",
       "      <td>Кривоарбатский переулок</td>\n",
       "      <td>район Арбат</td>\n",
       "      <td>Центральный административный округ</td>\n",
       "    </tr>\n",
       "    <tr>\n",
       "      <td>375</td>\n",
       "      <td>Шубинский переулок</td>\n",
       "      <td>район Арбат</td>\n",
       "      <td>Центральный административный округ</td>\n",
       "    </tr>\n",
       "    <tr>\n",
       "      <td>383</td>\n",
       "      <td>Филипповский переулок</td>\n",
       "      <td>район Арбат</td>\n",
       "      <td>Центральный административный округ</td>\n",
       "    </tr>\n",
       "    <tr>\n",
       "      <td>390</td>\n",
       "      <td>Большой Афанасьевский переулок</td>\n",
       "      <td>район Арбат</td>\n",
       "      <td>Центральный административный округ</td>\n",
       "    </tr>\n",
       "    <tr>\n",
       "      <td>397</td>\n",
       "      <td>Большой Николопесковский переулок</td>\n",
       "      <td>район Арбат</td>\n",
       "      <td>Центральный административный округ</td>\n",
       "    </tr>\n",
       "    <tr>\n",
       "      <td>418</td>\n",
       "      <td>Троилинский переулок</td>\n",
       "      <td>район Арбат</td>\n",
       "      <td>Центральный административный округ</td>\n",
       "    </tr>\n",
       "    <tr>\n",
       "      <td>424</td>\n",
       "      <td>Глазовский переулок</td>\n",
       "      <td>район Арбат</td>\n",
       "      <td>Центральный административный округ</td>\n",
       "    </tr>\n",
       "  </tbody>\n",
       "</table>\n",
       "</div>"
      ],
      "text/plain": [
       "                                 street     district  \\\n",
       "123                Композиторская улица  район Арбат   \n",
       "305        1-й Николощеповский переулок  район Арбат   \n",
       "326                    Калошин переулок  район Арбат   \n",
       "327                  Проточный переулок  район Арбат   \n",
       "350     Малый Николопесковский переулок  район Арбат   \n",
       "364             Кривоарбатский переулок  район Арбат   \n",
       "375                  Шубинский переулок  район Арбат   \n",
       "383               Филипповский переулок  район Арбат   \n",
       "390      Большой Афанасьевский переулок  район Арбат   \n",
       "397   Большой Николопесковский переулок  район Арбат   \n",
       "418                Троилинский переулок  район Арбат   \n",
       "424                 Глазовский переулок  район Арбат   \n",
       "\n",
       "                                  okrug  \n",
       "123  Центральный административный округ  \n",
       "305  Центральный административный округ  \n",
       "326  Центральный административный округ  \n",
       "327  Центральный административный округ  \n",
       "350  Центральный административный округ  \n",
       "364  Центральный административный округ  \n",
       "375  Центральный административный округ  \n",
       "383  Центральный административный округ  \n",
       "390  Центральный административный округ  \n",
       "397  Центральный административный округ  \n",
       "418  Центральный административный округ  \n",
       "424  Центральный административный округ  "
      ]
     },
     "execution_count": 53,
     "metadata": {},
     "output_type": "execute_result"
    }
   ],
   "source": [
    "streets_with1district[streets_with1district['district']=='район Арбат']"
   ]
  },
  {
   "cell_type": "markdown",
   "metadata": {},
   "source": [
    "На примере Арбата видим, что в перечень вошли маленькие переулки. Логично, что на таких маленьких улочках можно встретить одно заведение"
   ]
  },
  {
   "cell_type": "markdown",
   "metadata": {},
   "source": [
    "**Посмотрите на распределение количества посадочных мест для улиц с большим количеством объектов общественного питания. Какие закономерности можно выявить?**"
   ]
  },
  {
   "cell_type": "markdown",
   "metadata": {},
   "source": [
    "Отбираю топ-10 улиц (ориентируюсь на предыдущий пункт задания), чтобы посмотреть разброс по посадочным местам"
   ]
  },
  {
   "cell_type": "code",
   "execution_count": 54,
   "metadata": {},
   "outputs": [],
   "source": [
    "places = rest_data[rest_data['street'].isin([' проспект Мира', ' Профсоюзная улица', 'Ленинградский проспект ', 'Пресненская набережная ', 'Варшавское шоссе ', 'Ленинский проспект ', 'проспект Вернадского ', 'Кутузовский проспект ', 'Каширское шоссе ', 'Кировоградская улица '])]"
   ]
  },
  {
   "cell_type": "markdown",
   "metadata": {},
   "source": [
    "Смотрю на распределение количества мест на этих улицах"
   ]
  },
  {
   "cell_type": "code",
   "execution_count": 55,
   "metadata": {},
   "outputs": [
    {
     "data": {
      "image/png": "[encoded data removed]",
      "text/plain": [
       "<Figure size 576x432 with 1 Axes>"
      ]
     },
     "metadata": {},
     "output_type": "display_data"
    }
   ],
   "source": [
    "plt.figure(figsize=(8, 6))\n",
    "sns.distplot(places['number'])\n",
    "sns.set_style(\"ticks\") \n",
    "sns.despine() \n",
    "plt.xlabel('кол-во мест')\n",
    "plt.title('Распределение кол-ва мест для топ-10 улиц по кол-ву заведений'); "
   ]
  },
  {
   "cell_type": "markdown",
   "metadata": {},
   "source": [
    "Распределение скошено вправо. На улицах с самым большим количеством заведений общественного питания, количество посадочных мест чаще всего не превышает 20. Медиана равна 40 - это подтверждает наше предположение о том, что количество мест небольшое"
   ]
  },
  {
   "cell_type": "code",
   "execution_count": 56,
   "metadata": {},
   "outputs": [
    {
     "data": {
      "text/plain": [
       "40.0"
      ]
     },
     "execution_count": 56,
     "metadata": {},
     "output_type": "execute_result"
    }
   ],
   "source": [
    "places['number'].median()"
   ]
  },
  {
   "cell_type": "markdown",
   "metadata": {},
   "source": [
    "**Основные выводы:**\n",
    "- По количеству заведений лидируют столовые и кафе\n",
    "- Несетевых заведений больше, чем сетевых. Количество мест в несетевых тоже в среднем больше, чем в сетевых\n",
    "- Больше всего сетевых заведений среди кафе и предприятий быстрого обслуживания\n",
    "- Связи между количеством заведений сети и количеством мест нет\n",
    "- Больше всего посадочных мест в среднем предоставляют столовые\n",
    "- Большое количество кафе характерно для южных районов Москвы\n",
    "- В центральных районах Москвы больше всего улиц с 1 заведением общественного питания\n",
    "- На улицах с самым большим количеством заведений общественного питания, количество посадочных мест чаще всего не превышает 20"
   ]
  },
  {
   "cell_type": "markdown",
   "metadata": {},
   "source": [
    "**Рекомендации:**\n",
    "- Нужно ориентироваться на центр и южные районы Москвы, где заведения общепита популярны\n",
    "- Упор нужно сделать на скорость обслуживания (роботы как более быстрый способ получить еду). Если сделать упор на роботов самих по себе, то есть риск, что ажиотаж вокруг заведения быстро пропадёт\n",
    "- Нужно сделать упор на выстраивание сети со средним количеством посадочных мест (самые популярные заведения)\n",
    "- Нужно провести качественное исследование (например, фокус-группы), чтобы понять, какие потребности есть у посетителей заведений общепита и оценить их готовность к нововведениям в целом"
   ]
  },
  {
   "cell_type": "code",
   "execution_count": null,
   "metadata": {},
   "outputs": [],
   "source": []
  }
 ],
 "metadata": {
  "kernelspec": {
   "display_name": "Python 3",
   "language": "python",
   "name": "python3"
  },
  "language_info": {
   "codemirror_mode": {
    "name": "ipython",
    "version": 3
   },
   "file_extension": ".py",
   "mimetype": "text/x-python",
   "name": "python",
   "nbconvert_exporter": "python",
   "pygments_lexer": "ipython3",
   "version": "3.8.5"
  },
  "toc": {
   "base_numbering": 1,
   "nav_menu": {},
   "number_sections": true,
   "sideBar": true,
   "skip_h1_title": true,
   "title_cell": "Table of Contents",
   "title_sidebar": "Contents",
   "toc_cell": false,
   "toc_position": {},
   "toc_section_display": true,
   "toc_window_display": false
  }
 },
 "nbformat": 4,
 "nbformat_minor": 2
}
